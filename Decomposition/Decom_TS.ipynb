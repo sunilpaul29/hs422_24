{
 "cells": [
  {
   "cell_type": "markdown",
   "metadata": {},
   "source": [
    "# Time Series: An introduction\n",
    "## Time Series decomposition\n"
   ]
  },
  {
   "cell_type": "markdown",
   "metadata": {},
   "source": [
    "This following section replicates the example given in the excel file decomp.csv. You can skip this section. I discussed this very briefly in the class\n",
    "\n",
    "Different components of time series\n",
    "\n",
    "__Trend:__ Persistent, overall upward \tor downward pattern(T). \n",
    "\n",
    "__Seasonal:__ Patterns in the data that repeat themselves for a fixed and known period (S).\n",
    "\n",
    "__Cyclical:__\tlong-term patterns in the data \tthat repeat themselves(C)\n",
    "\n",
    "__Irregular:__ Unsystematic, residual \tfluctuations (I).Pure stochastic term\n",
    "\t\t\t\n",
    "A time series can not be expected to have all the components. We can assume an additive (T+S+C+I)or multiplicative (T$\\times$ S $\\times$ C $\\times$ I)models. These components may be stochastic or deterministic. We can model these using a variety of methods (parameter-free or Parameter based models).\n",
    "\n",
    "\n",
    "### Example: Multiplicative Decomposition with Cycle\n",
    "\n",
    "This is a very simple model. We assume the presense of all comoponents in the series. Similarly trend, sesonal and cyclical components assumed to be deterministic.\n",
    "We have 3 year sales data and use trend regression and moving average to decompose the series\n",
    "\n",
    "-  Assume Y = T*S*I*C\n",
    "-  Remove the trend component from the data first:(e.g  Fit a trend line.)\n",
    "-  De-trended data is obtained as: Y/T=S*C*I\n",
    "-  Develop Seasonal I(using moving average)ndex  based on de-trended data : C*S*I= Y/T, average it out to remove I and C.\n",
    "-  De-Sensationalize the data : Y/S=T*C*I\n",
    "-  Separate out C*I = Y/(T*S) and I=(C*I)/C\n",
    "-  Forecast :   Adjust the forecasted trend with S and C "
   ]
  },
  {
   "cell_type": "code",
   "execution_count": 1,
   "metadata": {},
   "outputs": [],
   "source": [
    "data1 <- read.csv(\"ex_deco.csv\",header=TRUE, sep=\",\") # load the data\n",
    "\n",
    "# Creating time series objects\n",
    "\n",
    "sales_CSTI <- ts(data1[,4],start=c(2001,1),freq=12)# I used  2001 for year1"
   ]
  },
  {
   "cell_type": "markdown",
   "metadata": {},
   "source": [
    "One basic function used to create time series is _ts()._ To use this function we need to supply the series name,  and values for _start_ and _frequency_ arguments. The _start_ argument specifies the start date: for monthly data we need to specify a vector with staring year and month. Year and quarter for quarterly data and so on.   For example, if we have a monthly  data from 1992-July, then use _start=c(1992,7)_. Similarly we have to specify the frequency of the series using frequency argument. For monthly data it is 12 and for quarterly it is 4.  \n",
    "\n"
   ]
  },
  {
   "cell_type": "code",
   "execution_count": 2,
   "metadata": {},
   "outputs": [
    {
     "name": "stderr",
     "output_type": "stream",
     "text": [
      "\n",
      "Attaching package: 'zoo'\n",
      "\n",
      "\n",
      "The following objects are masked from 'package:base':\n",
      "\n",
      "    as.Date, as.Date.numeric\n",
      "\n",
      "\n"
     ]
    },
    {
     "data": {
      "image/png": "[encoded data removed]",
      "text/plain": [
       "plot without title"
      ]
     },
     "metadata": {
      "image/png": {
       "height": 420,
       "width": 420
      }
     },
     "output_type": "display_data"
    }
   ],
   "source": [
    "## Time series plots using ggplot\n",
    "library(zoo)\n",
    "library(ggplot2)\n",
    "\n",
    "x1<- as.Date(as.yearmon(time(sales_CSTI))) \n",
    "# creates the date variable using as.Date() and as.yearmon()\n",
    "salesdf <- data.frame(date=x1, Y=as.matrix(sales_CSTI)) # dataframe\n",
    "salesplot <- ggplot(data=salesdf, mapping=aes(x=date, y=Y)) + geom_line()+xlab(\"Period in Months\") +\n",
    "  ylab(\"Sales\")\n",
    "salesplot"
   ]
  },
  {
   "cell_type": "markdown",
   "metadata": {},
   "source": [
    "### Classical time series decomposition\n",
    "\n",
    "This example is from Chapter 16, Bruce L. Bowerman, Richard T. O’Connell and Emily S.Murphree, Business Statistics in Practice. \n",
    "In classical decomposition approach we assume time series is a combination of Cycle(C), Trend(T), Seasonal(S) and Irregular(I) components. Not all time series have all the components. It is a descriptive model and there are different procedures to decompose the time series. The method used for this example is very simple and illustrative in nature.Interested students are advised read the book mentioned above. The _stats_ package in R also has two functions to do decomposition **decompose()** and **stl()**. See help to understand how these functions decompose the time series before using it. \n",
    "\n",
    "There are multiplicative as well additive models. Since the plot of sales indicate a multiplicative model we do a multiplicative decomposition You can apply additive decomposition to multiplicative model by log transforming the series.  "
   ]
  },
  {
   "cell_type": "markdown",
   "metadata": {},
   "source": [
    "#### Seasonal Index\n",
    "We use centred moving average to construct the seasonal index"
   ]
  },
  {
   "cell_type": "code",
   "execution_count": 4,
   "metadata": {},
   "outputs": [
    {
     "name": "stderr",
     "output_type": "stream",
     "text": [
      "Registered S3 method overwritten by 'quantmod':\n",
      "  method            from\n",
      "  as.zoo.data.frame zoo \n",
      "\n"
     ]
    }
   ],
   "source": [
    "library(forecast) # for the ma() function\n",
    "sales_CT <- ma(sales_CSTI, order = 12, centre = T) # Centred Moving Average\n",
    "sales_SI  <- sales_CSTI / sales_CT # Seasonal component and Irreguar term"
   ]
  },
  {
   "cell_type": "code",
   "execution_count": 5,
   "metadata": {},
   "outputs": [],
   "source": [
    "# codes to estimate the seasonal index:\n",
    "m_sales = t(matrix(data = sales_SI, nrow = 12))\n",
    "sales_MM <-  colMeans(m_sales, na.rm = T)# Month averages of seasonality\n",
    "norm_factor <- rep(12/sum(sales_MM),12)# \n",
    "sales_S1 <- sales_MM*norm_factor #Normalised seasonal index\n",
    "sales_S2 <- rep(sales_S1,3)\n",
    "sales_S <- ts(sales_S2,start=c(2001,1),frequency=12)"
   ]
  },
  {
   "cell_type": "markdown",
   "metadata": {},
   "source": [
    "####  Trend component\n",
    "Trend component is extracted by fitting a trend regression on deseasonalised series. "
   ]
  },
  {
   "cell_type": "code",
   "execution_count": 6,
   "metadata": {},
   "outputs": [],
   "source": [
    "trend <- seq(1:36) # time index\n",
    "# data frame with date, original series and seasonal index\n",
    "sales_com <- data.frame(x1,sales_CSTI, sales_S)\n",
    "sales_dS <- sales_CSTI/sales_S # desesonalised data\n",
    "sales_lm <- lm(sales_dS~trend)\n",
    " \n",
    "sales_T <- predict(sales_lm)  # trend component           \n",
    "sales_com <- data.frame(sales_com,sales_T) # adding trend to data frame sales_com\n",
    "                  "
   ]
  },
  {
   "cell_type": "markdown",
   "metadata": {},
   "source": [
    "#### Cycles\n",
    "It is difficult to get well defined cycles for a time series as short as this. This stage is discussed here just for the illustrative purpose. "
   ]
  },
  {
   "cell_type": "code",
   "execution_count": 7,
   "metadata": {},
   "outputs": [],
   "source": [
    "sales_ST <- sales_S*sales_T #trend and seasonal component\n",
    "sales_CI <- sales_CSTI/sales_ST # cycle with irregular component\n",
    "# take 3 month moving average to remove irregular term\n",
    "sales_C <- ma(sales_CI, order = 3, centre = T) \n",
    "sales_com <- data.frame(sales_com,sales_C)"
   ]
  },
  {
   "cell_type": "markdown",
   "metadata": {},
   "source": [
    "#### Irreguar component\n",
    " What is left after removing S,T, and C is the irredular component"
   ]
  },
  {
   "cell_type": "code",
   "execution_count": 8,
   "metadata": {},
   "outputs": [],
   "source": [
    "sales_I <- sales_CI/sales_C\n",
    "sales_com <- data.frame(sales_com,sales_I)"
   ]
  },
  {
   "cell_type": "markdown",
   "metadata": {},
   "source": [
    "Same steps can be followed for an additive model replacing addition for multiplication and subtraction for division."
   ]
  },
  {
   "cell_type": "code",
   "execution_count": 15,
   "metadata": {},
   "outputs": [
    {
     "name": "stderr",
     "output_type": "stream",
     "text": [
      "\u001b[1m\u001b[22mDon't know how to automatically pick scale for object of type \u001b[34m<ts>\u001b[39m. Defaulting\n",
      "to continuous.\n",
      "\u001b[1m\u001b[22mDon't know how to automatically pick scale for object of type \u001b[34m<ts>\u001b[39m. Defaulting\n",
      "to continuous.\n",
      "Warning message:\n",
      "\"\u001b[1m\u001b[22mRemoved 2 rows containing missing values (`geom_line()`).\"\n",
      "\u001b[1m\u001b[22mDon't know how to automatically pick scale for object of type \u001b[34m<ts>\u001b[39m. Defaulting\n",
      "to continuous.\n",
      "Warning message:\n",
      "\"\u001b[1m\u001b[22mRemoved 2 rows containing missing values (`geom_line()`).\"\n"
     ]
    },
    {
     "data": {
      "image/png": "[encoded data removed]",
      "text/plain": [
       "plot without title"
      ]
     },
     "metadata": {
      "image/png": {
       "height": 420,
       "width": 420
      }
     },
     "output_type": "display_data"
    }
   ],
   "source": [
    "###Plots of all components together\n",
    "\n",
    "library(gridExtra) # for the function grid.arange\n",
    "p1<-ggplot(sales_com, mapping=aes(x=x1,y=sales_S))+geom_line(colour=\"blue\")+\n",
    "                ylab(\"Seasonal Index\")+ xlab(NULL)\n",
    "p2<-ggplot(sales_com, mapping=aes(x=x1,y=sales_T))+geom_line(color=\"red\")+\n",
    "                ylab(\"Trend\")+xlab(NULL)\n",
    "p3<-ggplot(sales_com, mapping=aes(x=x1,y=sales_C))+geom_line(color=\"green\")+\n",
    "                ylab(\"Cycle\")+xlab(NULL)\n",
    "p4<-ggplot(sales_com, mapping=aes(x=x1,y=sales_I))+geom_line()+\n",
    "                ylab(\"Irregular term\")+xlab(\"Period in Months\")\n",
    "      \n",
    " grid.arrange(p1, p2,p3,p4, ncol = 1)"
   ]
  },
  {
   "cell_type": "markdown",
   "metadata": {},
   "source": [
    "### Home work\n",
    "\n",
    "- **decompose()** and **stl()** to extract components of sales data  available in ex_deco.csv (Same data we used in the example above). What is the difference between the procedure we used  and the procedures used by these functions.\n",
    "-  Quarterly data on GDP for India is available in GDP.csv. Create a time series of GDP in R. Find the seasonal index. Generate the plot of GDP and deseasonalised GDP.\n"
   ]
  }
 ],
 "metadata": {
  "_draft": {
   "nbviewer_url": "https://gist.github.com/69049370e9090f0e6caabd2f62314e17"
  },
  "gist": {
   "data": {
    "description": "OneDrive/HS421/Notes/Basics  of Timeseries.ipynb",
    "public": false
   },
   "id": "69049370e9090f0e6caabd2f62314e17"
  },
  "kernelspec": {
   "display_name": "R 4.2.2",
   "language": "R",
   "name": "ir42"
  },
  "language_info": {
   "codemirror_mode": "r",
   "file_extension": ".r",
   "mimetype": "text/x-r-source",
   "name": "R",
   "pygments_lexer": "r",
   "version": "4.2.2"
  },
  "latex_envs": {
   "LaTeX_envs_menu_present": true,
   "autoclose": false,
   "autocomplete": true,
   "bibliofile": "biblio.bib",
   "cite_by": "apalike",
   "current_citInitial": 1,
   "eqLabelWithNumbers": true,
   "eqNumInitial": 1,
   "hotkeys": {
    "equation": "Ctrl-E",
    "itemize": "Ctrl-I"
   },
   "labels_anchors": false,
   "latex_user_defs": false,
   "report_style_numbering": false,
   "user_envs_cfg": false
  },
  "toc": {
   "base_numbering": 1,
   "nav_menu": {},
   "number_sections": true,
   "sideBar": true,
   "skip_h1_title": true,
   "title_cell": "Table of Contents",
   "title_sidebar": "Contents",
   "toc_cell": false,
   "toc_position": {
    "height": "282.4px",
    "left": "764px",
    "top": "110.267px",
    "width": "204.8px"
   },
   "toc_section_display": true,
   "toc_window_display": true
  }
 },
 "nbformat": 4,
 "nbformat_minor": 4
}
