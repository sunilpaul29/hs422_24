{
 "cells": [
  {
   "cell_type": "markdown",
   "metadata": {
    "tags": []
   },
   "source": [
    "# Time Series: An introduction\n"
   ]
  },
  {
   "cell_type": "markdown",
   "metadata": {},
   "source": [
    "## Simulation of Covariance Stationary Stochastic Process\n",
    " We will use the simulated series often to study the properties of time series. \n",
    "\n",
    " It is possible to generate density distribution function, cumulative distribution function, quantile function  and random variate generation  from many standard distributions in R. For example the following code generates 10 observartions from an normal distribution:"
   ]
  },
  {
   "cell_type": "code",
   "execution_count": 90,
   "metadata": {},
   "outputs": [],
   "source": [
    " x <- rnorm(10) # Generates 10 random observations from normal distributions"
   ]
  },
  {
   "cell_type": "markdown",
   "metadata": {},
   "source": [
    " \n",
    " let us simulate $Y$ as follows:\n",
    " $$Y_t=5+t\\varepsilon_t,$$\n",
    " $$\\varepsilon_t \\sim GWN(0,\\sigma^2)$$"
   ]
  },
  {
   "cell_type": "code",
   "execution_count": 91,
   "metadata": {},
   "outputs": [
    {
     "data": {
      "text/html": [
       "<style>\n",
       ".list-inline {list-style: none; margin:0; padding: 0}\n",
       ".list-inline>li {display: inline-block}\n",
       ".list-inline>li:not(:last-child)::after {content: \"\\00b7\"; padding: 0 .5ex}\n",
       "</style>\n",
       "<ol class=list-inline><li>7.03757401824044</li><li>7.60235198440117</li><li>7.27032429138788</li><li>-1.90692159645732</li><li>1.99246645996609</li></ol>\n"
      ],
      "text/latex": [
       "\\begin{enumerate*}\n",
       "\\item 7.03757401824044\n",
       "\\item 7.60235198440117\n",
       "\\item 7.27032429138788\n",
       "\\item -1.90692159645732\n",
       "\\item 1.99246645996609\n",
       "\\end{enumerate*}\n"
      ],
      "text/markdown": [
       "1. 7.03757401824044\n",
       "2. 7.60235198440117\n",
       "3. 7.27032429138788\n",
       "4. -1.90692159645732\n",
       "5. 1.99246645996609\n",
       "\n",
       "\n"
      ],
      "text/plain": [
       "[1]  7.037574  7.602352  7.270324 -1.906922  1.992466"
      ]
     },
     "metadata": {},
     "output_type": "display_data"
    }
   ],
   "source": [
    " y <- numeric(5) # Create a vector with 5 observations\n",
    " \n",
    " for (i in c(1:5))\n",
    " y[i] = 5+i*rnorm(1)\n",
    "y\n",
    "\n",
    " "
   ]
  },
  {
   "cell_type": "markdown",
   "metadata": {},
   "source": [
    "This section examines the properties of stationary univariate models  using simulated data. The functions used to generate graphs are given in 'Graph.R' script (I will upload a copy in the GitHub repository)."
   ]
  },
  {
   "cell_type": "markdown",
   "metadata": {},
   "source": [
    "\n",
    "The function **arima.sim()** is used to simulate the series from ARMA(p,q) process of different order. **ARMAacf()** gives the theoretical ACF and PACF. **ARMAtoMA()** gives the impulse response coefficients. I have used these  two functions to generate the graphs of ACF and IRF. See help for details.\n",
    "\n",
    "### MA(1) process\n",
    " Let us start with MA(1) process. The details of AR and MA coefficients need to be specified as arguments in **arima.sim()**. The following codes first define AR  and MA terms and them simulate the process.\n",
    " "
   ]
  },
  {
   "cell_type": "code",
   "execution_count": 92,
   "metadata": {},
   "outputs": [
    {
     "data": {
      "image/png": "[encoded data removed]",
      "text/plain": [
       "plot without title"
      ]
     },
     "metadata": {
      "image/png": {
       "height": 420,
       "width": 420
      }
     },
     "output_type": "display_data"
    }
   ],
   "source": [
    "library(grid)\n",
    "library(gridExtra)\n",
    "source(\"graphs.R\") #loads the function for graphs\n",
    "\n",
    "set.seed(123)\n",
    "ma1 <- 1.8 # define the MA coefficients\n",
    "ar1 <- 0 # define the AR coefficient\n",
    "mu <- 2 \n",
    "model1 <- list(ma=ma1)\n",
    "s11 <- mu + arima.sim(model=model1,n=250)\n",
    "# ANother MA model with  coeffient -0.8\n",
    "ma2 <- -0.8\n",
    "ar1 <- 0\n",
    "model2 <- list(ma=ma2)\n",
    "s12 <- mu + arima.sim(model=model2,n=250)\n",
    "\n",
    "library(latex2exp)\n",
    "#ts.graph1() is from graph.R. It plots the time series\n",
    "gs11 <- ts.graph1(s11)+ ggtitle(TeX(\"$Y_t=2+0.8 \\\\epsilon_{t-1}+\\\\epsilon_{t}$\"))\n",
    "gs12 <-ts.graph1(s12)+ ggtitle(TeX(\"$Y_t=2-0.8 \\\\epsilon_{t-1}+\\\\epsilon_{t}$\"))\n",
    "grid.arrange(gs11,gs12,acf.graph1(ar1,ma1,15),acf.graph1(ar1,ma2,15),pacf.graph1(ar1,ma1,15),pacf.graph1(ar1,ma2,15),ncol=2)"
   ]
  },
  {
   "cell_type": "markdown",
   "metadata": {},
   "source": [
    "- The plot of $Y_t$ shows that the series is distributed around its mean.\n",
    "- ACF of MA(1) with 0.8 is positive and cuts off at lag one. PACF oscillates between negative and positive values (Why?).\n",
    "-  ACF of MA(1) with -0.8 is negative and cuts off at lag one. All the PAC are negative and PACF decays to zero(Why?)\n",
    "- Both models are invertible. You can get the numerical values of ACF using \\texttt{ARMAacf()}. See help for details. (I have customized the graphs using own function sgiven in the sript attached, but you can plot IRF and ACF directly)\n",
    "\n",
    "\n",
    "### MA(2) Process"
   ]
  },
  {
   "cell_type": "code",
   "execution_count": 93,
   "metadata": {},
   "outputs": [],
   "source": [
    "set.seed(123)\n",
    "ma21 <- c(1,0.7) # MA coefficient\n",
    "\n",
    "mu <- 2\n",
    "model21 <- list(ma=ma21)\n",
    "s21 <- mu + arima.sim(model=model21,n=250)\n",
    "\n",
    "# ANother MA model with  coeffients 1 and -0.25\n",
    "ma22 <- c(-1.2,0.25)\n",
    "model22 <- list(ma=ma22)\n",
    "s22 <- mu + arima.sim(model=model22,n=250)"
   ]
  },
  {
   "cell_type": "markdown",
   "metadata": {},
   "source": [
    "We have simulated two invertible MA(2) process i.e $Y_{1t}=2+1 \\varepsilon_{t-1}+0.7 \\varepsilon_{t-2}+\\varepsilon_{t}$ and $Y_{2t}=2-1.2 \\varepsilon_{t-1}+0.25 \\varepsilon_{t-2}+\\varepsilon_{t}$. Remember for invertibility the roots of the lag polynomial should be greater than $|1|$ or its inverse should be less than $|1|$. \n",
    "\n",
    "\n",
    "#### Invertibility\n",
    "\n",
    "\n",
    "Consider the **first process** \n",
    "\n",
    "$$Y_{1t}=2+1 \\varepsilon_{t-1}+0.7 \\varepsilon_{t-2}+\\varepsilon_{t}$$ \n",
    "\n",
    "The roots of lag polynomial($1+1L+0.7L^2)$ are:"
   ]
  },
  {
   "cell_type": "code",
   "execution_count": 94,
   "metadata": {},
   "outputs": [
    {
     "data": {
      "text/html": [
       "<style>\n",
       ".list-inline {list-style: none; margin:0; padding: 0}\n",
       ".list-inline>li {display: inline-block}\n",
       ".list-inline>li:not(:last-child)::after {content: \"\\00b7\"; padding: 0 .5ex}\n",
       "</style>\n",
       "<ol class=list-inline><li>1.19522860933439</li><li>1.19522860933439</li></ol>\n"
      ],
      "text/latex": [
       "\\begin{enumerate*}\n",
       "\\item 1.19522860933439\n",
       "\\item 1.19522860933439\n",
       "\\end{enumerate*}\n"
      ],
      "text/markdown": [
       "1. 1.19522860933439\n",
       "2. 1.19522860933439\n",
       "\n",
       "\n"
      ],
      "text/plain": [
       "[1] 1.195229 1.195229"
      ]
     },
     "metadata": {},
     "output_type": "display_data"
    }
   ],
   "source": [
    "maroot <-polyroot(c(1,1,0.7))\n",
    "\n",
    "#Roots are complex conjugates. Absolute value of these roots are :\n",
    "\n",
    "abs(maroot) "
   ]
  },
  {
   "cell_type": "markdown",
   "metadata": {},
   "source": [
    "Plots of both series with ACF and PACF are given below. The first two ACF are non zero for both the process. "
   ]
  },
  {
   "cell_type": "code",
   "execution_count": 95,
   "metadata": {},
   "outputs": [
    {
     "data": {
      "image/png": "[encoded data removed]",
      "text/plain": [
       "plot without title"
      ]
     },
     "metadata": {
      "image/png": {
       "height": 420,
       "width": 420
      }
     },
     "output_type": "display_data"
    }
   ],
   "source": [
    "tgs21 <- TeX(\"$Y_t=2+1\\\\epsilon_{t-1}+0.7\\\\epsilon_{t-2}+\\\\epsilon_{t}$\")\n",
    "gs21 <- ts.graph1(s21)+ ggtitle(tgs21)\n",
    "tgs22 <- TeX(\"$Y_t=2-1.2\\\\epsilon_{t-1}+0.25\\\\epsilon_{t-2}+\\\\epsilon_{t}$\") \n",
    "gs22 <- ts.graph1(s22)+ ggtitle(tgs22)\n",
    "\n",
    "\n",
    "grid.arrange(gs21,gs22,acf.graph1(ar1,ma21,15),acf.graph1(ar1,ma22,15),pacf.graph1(ar1,ma21,15),pacf.graph1(ar1,ma22,15),ncol=2)"
   ]
  },
  {
   "cell_type": "markdown",
   "metadata": {},
   "source": [
    "In general:\n",
    "- ACF can be used to identify order of an MA process\n",
    "- PACF of an invertible series can exhibit damned decay or cycles depending on the roots of MA lag polynomial."
   ]
  },
  {
   "cell_type": "markdown",
   "metadata": {},
   "source": [
    "### AR (1) Process\n",
    "Three AR(1) models are simulated with 0.8, -0.7 and 0.4 auto regressive coefficient. The impulse responses of AR models are also plotted in this section. "
   ]
  },
  {
   "cell_type": "code",
   "execution_count": 96,
   "metadata": {},
   "outputs": [
    {
     "data": {
      "image/png": "[encoded data removed]",
      "text/plain": [
       "plot without title"
      ]
     },
     "metadata": {
      "image/png": {
       "height": 420,
       "width": 420
      }
     },
     "output_type": "display_data"
    }
   ],
   "source": [
    "set.seed(123)\n",
    "ma1 <- 0 # MA coefficient\n",
    "ar1 <- 0.8 # AR coefficient\n",
    "mu <- 2\n",
    "model1 <- list(ma=ma1,ar=ar1)\n",
    "a11 <- mu + arima.sim(model=model1,n=250)\n",
    "# ANother AR process with  coeffient 0.4\n",
    "ar2 <- 0.4\n",
    "model2 <- list(ma=ma1,ar=ar2)\n",
    "a12 <- mu + arima.sim(model=model2,n=250)\n",
    "\n",
    "ga11 <- ts.graph1(a11)+ ggtitle(TeX(\"$Y_t=0.4+0.8 Y_{t-1}+\\\\epsilon_{t}$\"))\n",
    "ga12 <-ts.graph1(a12)+ ggtitle(TeX(\"$Y_t=1.2+0.4 Y_{t-1}+\\\\epsilon_{t}$\"))\n",
    "grid.arrange(ga11,ga12,acf.graph1(ar1,ma1,15),acf.graph1(ar2,ma1,15),\n",
    "             pacf.graph1(ar1,ma1,15),pacf.graph1(ar2,ma1,15),ncol=2)"
   ]
  },
  {
   "cell_type": "markdown",
   "metadata": {},
   "source": [
    "- AR(1) is persistent if the coefficient is close to one.\n",
    "- Unconditional mean is 2 for all the series\n",
    "- Convergence of ACF to zero is slower for AR(1) process with 0.8 coefficient.\n",
    "- The ACF will oscillate between positive and negative values if auto regressive coefficient is negative. See the graph below.\n",
    "-  AR Process can be identified using PACF. For AR(1)  PACF cut off at lag one."
   ]
  },
  {
   "cell_type": "code",
   "execution_count": 97,
   "metadata": {},
   "outputs": [
    {
     "data": {
      "image/png": "[encoded data removed]",
      "text/plain": [
       "plot without title"
      ]
     },
     "metadata": {
      "image/png": {
       "height": 420,
       "width": 420
      }
     },
     "output_type": "display_data"
    }
   ],
   "source": [
    "# Process with negative autoregrssive coefficient\n",
    "\n",
    "ar3 <- -0.7\n",
    "model3 <- list(ma=ma1,ar=ar3)\n",
    "a13 <- mu + arima.sim(model=model3,n=250)\n",
    "ga13 <-ts.graph1(a13)+ ggtitle(TeX(\"$Y_t=3.4-0.7 Y_{t-1}+\\\\epsilon_{t}$\"))\n",
    "\n",
    "grid.arrange(ga13,acf.graph1(ar3, ma1,15),ncol=2)"
   ]
  },
  {
   "cell_type": "markdown",
   "metadata": {},
   "source": [
    "### AR(2) process\n",
    "\n",
    "Four different models of AR(2) process is considered for simulation"
   ]
  },
  {
   "cell_type": "markdown",
   "metadata": {},
   "source": [
    "\n",
    "- $Y_t=0.5Y_{t-1}+0.25Y_{t-2}+\\varepsilon_t$\n",
    "- $Y_t=1Y_{t-1}-0.25Y_{t-2}+\\varepsilon_t$\n",
    "- $Y_t=1.5Y_{t-1}-0.75Y_{t-2}+\\varepsilon_t$\n",
    "- $Y_t=-0.6Y_{t-1}+0.2Y_{t-2}+\\varepsilon_t$\n"
   ]
  },
  {
   "cell_type": "code",
   "execution_count": 98,
   "metadata": {},
   "outputs": [
    {
     "data": {
      "image/png": "[encoded data removed]",
      "text/plain": [
       "plot without title"
      ]
     },
     "metadata": {
      "image/png": {
       "height": 420,
       "width": 420
      }
     },
     "output_type": "display_data"
    }
   ],
   "source": [
    "\n",
    "set.seed(123)\n",
    "\n",
    "ar21 <-c(0.5,0.25)  # AR coefficient\n",
    "mu <- 0\n",
    "model21 <- list(ar=ar21)\n",
    "a21 <- mu + arima.sim(model=model21,n=250)\n",
    "# ANother AR model with  coeffients 1 and -0.25\n",
    "ar22 <- c(1,-0.25)\n",
    "model22 <- list(ar=ar22,ma=ma1)\n",
    "a22 <- mu + arima.sim(model=model22,n=250)\n",
    "\n",
    "# ANother AR model with  coeffients 1.5 and -0.75\n",
    "ar23 <- c(1.5,-0.75)\n",
    "model23 <- list(ma=ma1,ar=ar23)\n",
    "a23 <- mu + arima.sim(model=model23,n=250)\n",
    "\n",
    "# ANother AR model with  coeffients -.6 and -0.2\n",
    "ar24 <- c(-.6,0.2)\n",
    "model24 <- list(ma=ma1,ar=ar24)\n",
    "a24 <- mu + arima.sim(model=model24,n=250)\n",
    "\n",
    "ga24 <-ts.graph1(a24)+ ggtitle(TeX(\"$Y_t=-0.6 Y_{t-1}+0.2Y_{t-2}\\\\epsilon_{t}$\"))\n",
    "ga23 <-ts.graph1(a23)+ ggtitle(TeX(\"$Y_t=1.5 Y_{t-1}-0.75Y_{t-2}\\\\epsilon_{t}$\"))\n",
    "ga21 <-ts.graph1(a21)+ ggtitle(TeX(\"$Y_t=0.5 Y_{t-1}+0.25Y_{t-2}\\\\epsilon_{t}$\"))\n",
    "ga22 <-ts.graph1(a22)+ ggtitle(TeX(\"$Y_t=1 Y_{t-1}-0.25Y_{t-2}\\\\epsilon_{t}$\"))\n",
    "grid.arrange(ga21,ga22,ga23,ga24,ncol=2)"
   ]
  },
  {
   "cell_type": "code",
   "execution_count": 99,
   "metadata": {},
   "outputs": [],
   "source": [
    "ma1 <-0\n",
    "acf24 <-acf.graph1(ar24,ma1,15)+ ggtitle(TeX(\"$Y_t=-0.6 Y_{t-1}+0.2Y_{t-2}\\\\epsilon_{t}$\"))\n",
    "acf23 <-acf.graph1(ar23,ma1,15)+ ggtitle(TeX(\"$Y_t=1.5 Y_{t-1}-0.75Y_{t-2}\\\\epsilon_{t}$\"))\n",
    "acf21 <-acf.graph1(ar21,ma1,15)+ ggtitle(TeX(\"$Y_t=0.5 Y_{t-1}+0.25Y_{t-2}\\\\epsilon_{t}$\"))\n",
    "acf22 <-acf.graph1(ar22,ma1,15)+ ggtitle(TeX(\"$Y_t=1 Y_{t-1}-0.25Y_{t-2}\\\\epsilon_{t}$\"))"
   ]
  },
  {
   "cell_type": "markdown",
   "metadata": {},
   "source": [
    "- The  autocorrelation decays and asympotically approches zero. The shape and magnitute of the ACF depends on the roots of $F$ matrix. (The discussion on this is beoyond the scope of our course)"
   ]
  },
  {
   "cell_type": "code",
   "execution_count": 100,
   "metadata": {},
   "outputs": [
    {
     "data": {
      "image/png": "[encoded data removed]",
      "text/plain": [
       "plot without title"
      ]
     },
     "metadata": {
      "image/png": {
       "height": 420,
       "width": 420
      }
     },
     "output_type": "display_data"
    }
   ],
   "source": [
    "grid.arrange(acf21,acf22,acf23,acf24)"
   ]
  },
  {
   "cell_type": "markdown",
   "metadata": {},
   "source": [
    "- Order of the AR process can be identified using PACF\n",
    "- PACF cuts off at lag p for an AR(p) process.\n",
    "- The teortical PACF of the AR(2) process is given below:"
   ]
  },
  {
   "cell_type": "code",
   "execution_count": 101,
   "metadata": {},
   "outputs": [
    {
     "data": {
      "image/png": "[encoded data removed]",
      "text/plain": [
       "plot without title"
      ]
     },
     "metadata": {
      "image/png": {
       "height": 420,
       "width": 420
      }
     },
     "output_type": "display_data"
    }
   ],
   "source": [
    "pacf24 <-pacf.graph1(ar24,ma1,15)+ ggtitle(TeX(\"$Y_t=-0.6 Y_{t-1}+0.2Y_{t-2}\\\\epsilon_{t}$\"))\n",
    "pacf23 <-pacf.graph1(ar23,ma1,15)+ ggtitle(TeX(\"$Y_t=1.5 Y_{t-1}-0.75Y_{t-2}\\\\epsilon_{t}$\"))\n",
    "pacf21 <-pacf.graph1(ar21,ma1,15)+ ggtitle(TeX(\"$Y_t=0.5 Y_{t-1}+0.25Y_{t-2}\\\\epsilon_{t}$\"))\n",
    "pacf22 <-pacf.graph1(ar22,ma1,15)+ ggtitle(TeX(\"$Y_t=1 Y_{t-1}-0.25Y_{t-2}\\\\epsilon_{t}$\"))\n",
    "\n",
    "grid.arrange(pacf21,pacf22,pacf23,pacf24)"
   ]
  },
  {
   "cell_type": "markdown",
   "metadata": {},
   "source": [
    "#### Stationarity\n",
    "Let us consider an AR(p) model $$Y_{t} =\\phi _{1}Y_{t-1}+\\phi _{2}Y_{t-2}\n",
    "...+\\phi _{p}Y_{t-p}+\\varepsilon _{t}$$ \n",
    "using lag operator  the AR(p) process as follows:\n",
    "$$(1-\\phi_1L-\\phi_2L^2-...-\\phi_pL^p)Y_t=\\phi_0+\\varepsilon_t$$\n",
    "The AR(p) processis staionary if the roots of $(1-\\phi_1L-\\phi_2L^2-...-\\phi_pL^p)$ is less than modulud 1. Alternatively we can express AR(p) process in matrix form as follows\n",
    "\n",
    "$$\\mathbf{Z_t=F Z_{t-1}+v_t}$$\n",
    "i.e,\n",
    "\n",
    "\n",
    "\n",
    "\n",
    "$$\n",
    "\\begin{bmatrix}\n",
    "Y_{t} \\\\ \n",
    "Y_{t-1} \\\\ \n",
    "Y_{t-2} \\\\ \n",
    "\\vdots \\\\ \n",
    "Y_{t-p+1}%\n",
    "\\end{bmatrix}%\n",
    "=%\n",
    "\\begin{bmatrix}\n",
    "\\phi _{1} & \\phi _{2} & \\cdots & \\phi_{p-1} & \\phi _{p} \\\\ \n",
    "1 & 0 & \\cdots & \\cdots & 0 \\\\ \n",
    "0 & 1 & \\cdots & \\cdots & 0 \\\\ \n",
    "\\vdots & \\vdots & \\cdots & \\cdots & \\vdots \\\\ \n",
    "0 & 0 & \\cdots & 1 & 0%\n",
    "\\end{bmatrix}%\n",
    "\\begin{bmatrix}\n",
    "Y_{t-1} \\\\ \n",
    "Y_{t-2} \\\\ \n",
    "Y_{t-3} \\\\ \n",
    "\\vdots \\\\ \n",
    "Y_{t-p}%\n",
    "\\end{bmatrix}%\n",
    "+%\n",
    "\\begin{bmatrix}\n",
    "\\varepsilon _{t} \\\\ \n",
    "0 \\\\ \n",
    "0 \\\\ \n",
    "\\vdots \\\\ \n",
    "0%\n",
    "\\end{bmatrix}%\n",
    "$$\n",
    "\n",
    "\n",
    "and check the stationarity based on the roots of $F$ matrix. if the $Y_t$ is covariance stationary then asll the eigen values of $F$ will be less than modulus one."
   ]
  },
  {
   "cell_type": "markdown",
   "metadata": {},
   "source": [
    "We will check the stationarity of AR(2) process using eigen values of $F$ matrix,where $F=\\begin{bmatrix} \\phi_1 &\\phi_2\\\\1&0\\end{bmatrix}$ form the matrix form of AR(2) $\\mathbf{Z_t=F Z_{t-1}+v_t}$.  You may check the roots of AR lag polynomial using **polyroot()**. Eigen values of all the four models are given below."
   ]
  },
  {
   "cell_type": "markdown",
   "metadata": {},
   "source": [
    "**Model1**:$Y_t=0.5Y_{t-1}+0.25Y_{t-2}+\\varepsilon_t$"
   ]
  },
  {
   "cell_type": "code",
   "execution_count": 102,
   "metadata": {},
   "outputs": [
    {
     "data": {
      "text/html": [
       "<table class=\"dataframe\">\n",
       "<caption>A matrix: 2 × 2 of type dbl</caption>\n",
       "<tbody>\n",
       "\t<tr><th scope=row>ar21</th><td>0.5</td><td>0.25</td></tr>\n",
       "\t<tr><th scope=row></th><td>1.0</td><td>0.00</td></tr>\n",
       "</tbody>\n",
       "</table>\n"
      ],
      "text/latex": [
       "A matrix: 2 × 2 of type dbl\n",
       "\\begin{tabular}{r|ll}\n",
       "\tar21 & 0.5 & 0.25\\\\\n",
       "\t & 1.0 & 0.00\\\\\n",
       "\\end{tabular}\n"
      ],
      "text/markdown": [
       "\n",
       "A matrix: 2 × 2 of type dbl\n",
       "\n",
       "| ar21 | 0.5 | 0.25 |\n",
       "| <!----> | 1.0 | 0.00 |\n",
       "\n"
      ],
      "text/plain": [
       "     [,1] [,2]\n",
       "ar21 0.5  0.25\n",
       "     1.0  0.00"
      ]
     },
     "metadata": {},
     "output_type": "display_data"
    }
   ],
   "source": [
    "(ar21F <- rbind(ar21,c(1,0)))#F matrix"
   ]
  },
  {
   "cell_type": "code",
   "execution_count": 103,
   "metadata": {},
   "outputs": [
    {
     "data": {
      "text/html": [
       "<style>\n",
       ".list-inline {list-style: none; margin:0; padding: 0}\n",
       ".list-inline>li {display: inline-block}\n",
       ".list-inline>li:not(:last-child)::after {content: \"\\00b7\"; padding: 0 .5ex}\n",
       "</style>\n",
       "<ol class=list-inline><li>0.809016994374947</li><li>-0.309016994374947</li></ol>\n"
      ],
      "text/latex": [
       "\\begin{enumerate*}\n",
       "\\item 0.809016994374947\n",
       "\\item -0.309016994374947\n",
       "\\end{enumerate*}\n"
      ],
      "text/markdown": [
       "1. 0.809016994374947\n",
       "2. -0.309016994374947\n",
       "\n",
       "\n"
      ],
      "text/plain": [
       "[1]  0.809017 -0.309017"
      ]
     },
     "metadata": {},
     "output_type": "display_data"
    }
   ],
   "source": [
    "(ar21r <- eigen(ar21F)$values)#Eigen Values"
   ]
  },
  {
   "cell_type": "code",
   "execution_count": 104,
   "metadata": {},
   "outputs": [
    {
     "data": {
      "text/html": [
       "<style>\n",
       ".list-inline {list-style: none; margin:0; padding: 0}\n",
       ".list-inline>li {display: inline-block}\n",
       ".list-inline>li:not(:last-child)::after {content: \"\\00b7\"; padding: 0 .5ex}\n",
       "</style>\n",
       "<ol class=list-inline><li>0.809016994374947</li><li>0.309016994374947</li></ol>\n"
      ],
      "text/latex": [
       "\\begin{enumerate*}\n",
       "\\item 0.809016994374947\n",
       "\\item 0.309016994374947\n",
       "\\end{enumerate*}\n"
      ],
      "text/markdown": [
       "1. 0.809016994374947\n",
       "2. 0.309016994374947\n",
       "\n",
       "\n"
      ],
      "text/plain": [
       "[1] 0.809017 0.309017"
      ]
     },
     "metadata": {},
     "output_type": "display_data"
    }
   ],
   "source": [
    "abs(ar21r) #Abs of eigen values"
   ]
  },
  {
   "cell_type": "markdown",
   "metadata": {},
   "source": [
    "**Model2**: $Y_t=1Y_{t-1}-0.25Y_{t-2}+\\varepsilon_t$"
   ]
  },
  {
   "cell_type": "code",
   "execution_count": 105,
   "metadata": {},
   "outputs": [
    {
     "data": {
      "text/html": [
       "<table class=\"dataframe\">\n",
       "<caption>A matrix: 2 × 2 of type dbl</caption>\n",
       "<tbody>\n",
       "\t<tr><th scope=row>ar22</th><td>1</td><td>-0.25</td></tr>\n",
       "\t<tr><th scope=row></th><td>1</td><td> 0.00</td></tr>\n",
       "</tbody>\n",
       "</table>\n"
      ],
      "text/latex": [
       "A matrix: 2 × 2 of type dbl\n",
       "\\begin{tabular}{r|ll}\n",
       "\tar22 & 1 & -0.25\\\\\n",
       "\t & 1 &  0.00\\\\\n",
       "\\end{tabular}\n"
      ],
      "text/markdown": [
       "\n",
       "A matrix: 2 × 2 of type dbl\n",
       "\n",
       "| ar22 | 1 | -0.25 |\n",
       "| <!----> | 1 |  0.00 |\n",
       "\n"
      ],
      "text/plain": [
       "     [,1] [,2] \n",
       "ar22 1    -0.25\n",
       "     1     0.00"
      ]
     },
     "metadata": {},
     "output_type": "display_data"
    }
   ],
   "source": [
    "#F matrix\n",
    "(ar22F <- rbind(ar22,c(1,0)))"
   ]
  },
  {
   "cell_type": "code",
   "execution_count": 106,
   "metadata": {},
   "outputs": [
    {
     "data": {
      "text/html": [
       "<style>\n",
       ".list-inline {list-style: none; margin:0; padding: 0}\n",
       ".list-inline>li {display: inline-block}\n",
       ".list-inline>li:not(:last-child)::after {content: \"\\00b7\"; padding: 0 .5ex}\n",
       "</style>\n",
       "<ol class=list-inline><li>0.5</li><li>0.5</li></ol>\n"
      ],
      "text/latex": [
       "\\begin{enumerate*}\n",
       "\\item 0.5\n",
       "\\item 0.5\n",
       "\\end{enumerate*}\n"
      ],
      "text/markdown": [
       "1. 0.5\n",
       "2. 0.5\n",
       "\n",
       "\n"
      ],
      "text/plain": [
       "[1] 0.5 0.5"
      ]
     },
     "metadata": {},
     "output_type": "display_data"
    }
   ],
   "source": [
    "#Eigen Values\n",
    "\n",
    "(ar22r <- eigen(ar22F)$values)"
   ]
  },
  {
   "cell_type": "code",
   "execution_count": 107,
   "metadata": {},
   "outputs": [
    {
     "data": {
      "text/html": [
       "<style>\n",
       ".list-inline {list-style: none; margin:0; padding: 0}\n",
       ".list-inline>li {display: inline-block}\n",
       ".list-inline>li:not(:last-child)::after {content: \"\\00b7\"; padding: 0 .5ex}\n",
       "</style>\n",
       "<ol class=list-inline><li>0.5</li><li>0.5</li></ol>\n"
      ],
      "text/latex": [
       "\\begin{enumerate*}\n",
       "\\item 0.5\n",
       "\\item 0.5\n",
       "\\end{enumerate*}\n"
      ],
      "text/markdown": [
       "1. 0.5\n",
       "2. 0.5\n",
       "\n",
       "\n"
      ],
      "text/plain": [
       "[1] 0.5 0.5"
      ]
     },
     "metadata": {},
     "output_type": "display_data"
    }
   ],
   "source": [
    "#Abs of eigen values\n",
    "abs(ar22r)"
   ]
  },
  {
   "cell_type": "markdown",
   "metadata": {},
   "source": [
    "** Model3** $Y_t=1.5Y_{t-1}-0.75Y_{t-2}+\\varepsilon_t$"
   ]
  },
  {
   "cell_type": "code",
   "execution_count": 108,
   "metadata": {},
   "outputs": [
    {
     "data": {
      "text/html": [
       "<table class=\"dataframe\">\n",
       "<caption>A matrix: 2 × 2 of type dbl</caption>\n",
       "<tbody>\n",
       "\t<tr><th scope=row>ar23</th><td>1.5</td><td>-0.75</td></tr>\n",
       "\t<tr><th scope=row></th><td>1.0</td><td> 0.00</td></tr>\n",
       "</tbody>\n",
       "</table>\n"
      ],
      "text/latex": [
       "A matrix: 2 × 2 of type dbl\n",
       "\\begin{tabular}{r|ll}\n",
       "\tar23 & 1.5 & -0.75\\\\\n",
       "\t & 1.0 &  0.00\\\\\n",
       "\\end{tabular}\n"
      ],
      "text/markdown": [
       "\n",
       "A matrix: 2 × 2 of type dbl\n",
       "\n",
       "| ar23 | 1.5 | -0.75 |\n",
       "| <!----> | 1.0 |  0.00 |\n",
       "\n"
      ],
      "text/plain": [
       "     [,1] [,2] \n",
       "ar23 1.5  -0.75\n",
       "     1.0   0.00"
      ]
     },
     "metadata": {},
     "output_type": "display_data"
    }
   ],
   "source": [
    "#F matrix\n",
    "(ar23F <- rbind(ar23,c(1,0)))"
   ]
  },
  {
   "cell_type": "code",
   "execution_count": 109,
   "metadata": {},
   "outputs": [
    {
     "data": {
      "text/html": [
       "<style>\n",
       ".list-inline {list-style: none; margin:0; padding: 0}\n",
       ".list-inline>li {display: inline-block}\n",
       ".list-inline>li:not(:last-child)::after {content: \"\\00b7\"; padding: 0 .5ex}\n",
       "</style>\n",
       "<ol class=list-inline><li>0.75+0.433012701892219i</li><li>0.75-0.433012701892219i</li></ol>\n"
      ],
      "text/latex": [
       "\\begin{enumerate*}\n",
       "\\item 0.75+0.433012701892219i\n",
       "\\item 0.75-0.433012701892219i\n",
       "\\end{enumerate*}\n"
      ],
      "text/markdown": [
       "1. 0.75+0.433012701892219i\n",
       "2. 0.75-0.433012701892219i\n",
       "\n",
       "\n"
      ],
      "text/plain": [
       "[1] 0.75+0.4330127i 0.75-0.4330127i"
      ]
     },
     "metadata": {},
     "output_type": "display_data"
    }
   ],
   "source": [
    "#Eigen Values\n",
    "\n",
    "(ar23r <- eigen(ar23F)$values)"
   ]
  },
  {
   "cell_type": "code",
   "execution_count": 110,
   "metadata": {},
   "outputs": [
    {
     "data": {
      "text/html": [
       "<style>\n",
       ".list-inline {list-style: none; margin:0; padding: 0}\n",
       ".list-inline>li {display: inline-block}\n",
       ".list-inline>li:not(:last-child)::after {content: \"\\00b7\"; padding: 0 .5ex}\n",
       "</style>\n",
       "<ol class=list-inline><li>0.866025403784439</li><li>0.866025403784439</li></ol>\n"
      ],
      "text/latex": [
       "\\begin{enumerate*}\n",
       "\\item 0.866025403784439\n",
       "\\item 0.866025403784439\n",
       "\\end{enumerate*}\n"
      ],
      "text/markdown": [
       "1. 0.866025403784439\n",
       "2. 0.866025403784439\n",
       "\n",
       "\n"
      ],
      "text/plain": [
       "[1] 0.8660254 0.8660254"
      ]
     },
     "metadata": {},
     "output_type": "display_data"
    }
   ],
   "source": [
    "#Abs of eigen values\n",
    "abs(ar23r)"
   ]
  },
  {
   "cell_type": "markdown",
   "metadata": {},
   "source": [
    "**Model4**: $Y_t=-0.6Y_{t-1}+0.2Y_{t-2}+\\varepsilon_t$"
   ]
  },
  {
   "cell_type": "code",
   "execution_count": 111,
   "metadata": {},
   "outputs": [
    {
     "data": {
      "text/html": [
       "<table class=\"dataframe\">\n",
       "<caption>A matrix: 2 × 2 of type dbl</caption>\n",
       "<tbody>\n",
       "\t<tr><th scope=row>ar24</th><td>-0.6</td><td>0.2</td></tr>\n",
       "\t<tr><th scope=row></th><td> 1.0</td><td>0.0</td></tr>\n",
       "</tbody>\n",
       "</table>\n"
      ],
      "text/latex": [
       "A matrix: 2 × 2 of type dbl\n",
       "\\begin{tabular}{r|ll}\n",
       "\tar24 & -0.6 & 0.2\\\\\n",
       "\t &  1.0 & 0.0\\\\\n",
       "\\end{tabular}\n"
      ],
      "text/markdown": [
       "\n",
       "A matrix: 2 × 2 of type dbl\n",
       "\n",
       "| ar24 | -0.6 | 0.2 |\n",
       "| <!----> |  1.0 | 0.0 |\n",
       "\n"
      ],
      "text/plain": [
       "     [,1] [,2]\n",
       "ar24 -0.6 0.2 \n",
       "      1.0 0.0 "
      ]
     },
     "metadata": {},
     "output_type": "display_data"
    }
   ],
   "source": [
    "#F matrix\n",
    "(ar24F <- rbind(ar24,c(1,0)))"
   ]
  },
  {
   "cell_type": "code",
   "execution_count": 112,
   "metadata": {},
   "outputs": [
    {
     "data": {
      "text/html": [
       "<style>\n",
       ".list-inline {list-style: none; margin:0; padding: 0}\n",
       ".list-inline>li {display: inline-block}\n",
       ".list-inline>li:not(:last-child)::after {content: \"\\00b7\"; padding: 0 .5ex}\n",
       "</style>\n",
       "<ol class=list-inline><li>-0.83851648071345</li><li>0.23851648071345</li></ol>\n"
      ],
      "text/latex": [
       "\\begin{enumerate*}\n",
       "\\item -0.83851648071345\n",
       "\\item 0.23851648071345\n",
       "\\end{enumerate*}\n"
      ],
      "text/markdown": [
       "1. -0.83851648071345\n",
       "2. 0.23851648071345\n",
       "\n",
       "\n"
      ],
      "text/plain": [
       "[1] -0.8385165  0.2385165"
      ]
     },
     "metadata": {},
     "output_type": "display_data"
    }
   ],
   "source": [
    "#Eigen Values\n",
    "\n",
    "(ar24r <- eigen(ar24F)$values)"
   ]
  },
  {
   "cell_type": "code",
   "execution_count": 113,
   "metadata": {},
   "outputs": [
    {
     "data": {
      "text/html": [
       "<style>\n",
       ".list-inline {list-style: none; margin:0; padding: 0}\n",
       ".list-inline>li {display: inline-block}\n",
       ".list-inline>li:not(:last-child)::after {content: \"\\00b7\"; padding: 0 .5ex}\n",
       "</style>\n",
       "<ol class=list-inline><li>0.83851648071345</li><li>0.23851648071345</li></ol>\n"
      ],
      "text/latex": [
       "\\begin{enumerate*}\n",
       "\\item 0.83851648071345\n",
       "\\item 0.23851648071345\n",
       "\\end{enumerate*}\n"
      ],
      "text/markdown": [
       "1. 0.83851648071345\n",
       "2. 0.23851648071345\n",
       "\n",
       "\n"
      ],
      "text/plain": [
       "[1] 0.8385165 0.2385165"
      ]
     },
     "metadata": {},
     "output_type": "display_data"
    }
   ],
   "source": [
    "#Abs of eigen values\n",
    "abs(ar24r)"
   ]
  },
  {
   "cell_type": "markdown",
   "metadata": {},
   "source": [
    "We can represent the stationary condition graphically as follows."
   ]
  },
  {
   "cell_type": "code",
   "execution_count": 114,
   "metadata": {},
   "outputs": [
    {
     "data": {
      "image/png": "[encoded data removed]",
      "text/plain": [
       "plot without title"
      ]
     },
     "metadata": {
      "image/png": {
       "height": 420,
       "width": 420
      }
     },
     "output_type": "display_data"
    }
   ],
   "source": [
    "x <- seq(-1,1,length=1000)\n",
    "y1 <- sqrt(1 - x^2)\n",
    "y2 <- -sqrt(1 - x^2)\n",
    "unitCircle <- ggplot(data.frame(x=x,y1=y1,y2=y2)) + #Using the results from earlier\n",
    "        geom_hline(aes(yintercept=0)) +\n",
    "        geom_vline(aes(xintercept=0)) +\n",
    "        geom_line(aes(x=x,y=y1)) + # top of circle\n",
    "        geom_line(aes(x=x,y=y2)) + # bottom of circle\n",
    "        geom_point(aes(x=Real, y=Imaginary), \n",
    "                   data.frame(Real=Re(ar23r), # Using the same code as above\n",
    "                              Imaginary=Im(ar23r))) +\n",
    "        scale_y_continuous(\"Imaginary Part\", limits=c(-1,1)) +\n",
    "\n",
    "                        scale_x_continuous(\"Real Part\", limits=c(-1,1))\n",
    "unitCircle\n",
    "        "
   ]
  },
  {
   "cell_type": "markdown",
   "metadata": {},
   "source": [
    "All the series we considered here are stationary since the eigen values as less than $|1|$."
   ]
  },
  {
   "cell_type": "markdown",
   "metadata": {},
   "source": [
    "As we have discussed already any co-variance stationary AR(P) process say $\\Phi(L)Y_t=\\varepsilon_t$ can be written as  $MA(\\infty)$ process,i.e., $Y_t=\\Psi(L)\\varepsilon_t$.\n",
    "The coefficients in $\\Psi(L)=1+\\psi_1L+\\psi_2L^2+\\ldots$ are known as Impulse response function. "
   ]
  },
  {
   "cell_type": "markdown",
   "metadata": {},
   "source": [
    "### ARMA Process\n",
    "\n",
    "An ARMA model is simulated as follows: $Y_t=-0.6Y_{t-1}+0.2Y_{t-2}-1.20\\varepsilon_{t-1}+0.25\\varepsilon_{t-2}+\\varepsilon_{t}$\n",
    "\n",
    "\n",
    "The invertibility of ARMA process depends on roots of MA lag polynomial and stationarity on AR lag polynomial. I am using the AR and MA coefficients that we used to simulate  AR and MA process earlier. You may cross check."
   ]
  },
  {
   "cell_type": "code",
   "execution_count": 115,
   "metadata": {
    "scrolled": true
   },
   "outputs": [
    {
     "data": {
      "image/png": "[encoded data removed]",
      "text/plain": [
       "plot without title"
      ]
     },
     "metadata": {
      "image/png": {
       "height": 420,
       "width": 420
      }
     },
     "output_type": "display_data"
    }
   ],
   "source": [
    "set.seed(123)\n",
    "ma11.1 <- ma22 # define the MA coefficients\n",
    "ar11.1 <- ar24 # define the AR coefficient\n",
    "mu <- 0\n",
    "model1 <- list(ma=ma11.1,ar=ar11.1)\n",
    "s11.1 <- mu + arima.sim(model=model1,n=250)\n",
    "\n",
    "grid.arrange(ts.graph1(s11.1),acf.graph1(ar11.1, ma11.1,15),pacf.graph1(ar11.1,ma11.1,15),ncol=1)"
   ]
  },
  {
   "cell_type": "markdown",
   "metadata": {},
   "source": [
    "- PACF of an ARMA(p,q) process will behave like a PACF of MA(q) process after lag q, and ACF like AR(p) process after lag p.\n"
   ]
  },
  {
   "cell_type": "markdown",
   "metadata": {},
   "source": [
    "## A Model of the interest rate spread:An illustration of Box Jenkins Methodology in R\n",
    "\n",
    "This example is a reproduction from Walter Enders ($4^{th}$ Edition). Chapter 2 Section 10 (pp 88). The estimated values may differ slightly.\n",
    " Quarterly data from 1960Q1 to 2012Q4 on interest rate spread (Difference between the interest rate on 5-year U.S. government bonds(R5) and the rate on 3-month treasury bills(TBILL)). \n",
    "\n",
    "- R5 and TBILL are given in the  data file named QUARTERLY. (File has a sas7bdat extension. Use **read.sas7bdat()** to load the file.)\n",
    "-   The graph of spread is given below.\n",
    "### Model specification\n",
    "Always examine the time series visually before starting the analysis"
   ]
  },
  {
   "cell_type": "code",
   "execution_count": 116,
   "metadata": {},
   "outputs": [
    {
     "data": {
      "image/png": "[encoded data removed]",
      "text/plain": [
       "plot without title"
      ]
     },
     "metadata": {
      "image/png": {
       "height": 420,
       "width": 420
      }
     },
     "output_type": "display_data"
    }
   ],
   "source": [
    "library(\"sas7bdat\")\n",
    "\n",
    "data1 <- read.sas7bdat(\"quarterly.sas7bdat\")\n",
    "\n",
    "sp <- data1$r5-data1$Tbill\n",
    "sp <- ts(sp,start=c(1960,1),freq=4)\n",
    "mu <- mean(sp)\n",
    "\n",
    "\n",
    "df <- data.frame(date=as.Date(as.yearqtr(time(sp))),Y=as.matrix(sp))\n",
    "\n",
    "tssp <- ggplot(data=df, mapping=aes(x=date, y=Y))+geom_line()+theme_classic()+ggtitle(\"Figure 1: The interest rate spread\") +\n",
    "  xlab(\"\") + ylab(\"\")+geom_hline(yintercept=mu)\n",
    "\n",
    "tssp"
   ]
  },
  {
   "cell_type": "markdown",
   "metadata": {},
   "source": [
    "Following inferences can be drawn from the plot:\n",
    "\n",
    "-  The series seems to be persistent\n",
    "-  No visible breaks in mean or variance of the series\n",
    "-  Looking into the graph the sequence seems to be a covariance stationary process.\n",
    "\n",
    " \n",
    "We can check the stationarity using unit root test (Yet to discuss). \n",
    "\n",
    "\n",
    "Next step is to identity tentative model for the process. We can make initial guess by checking ACF and PACF. Plots of the ACF and PACF are given in figure 2 and 3 (95% confidence interval is by red dashed lines). 95% confidence intervals are:"
   ]
  },
  {
   "cell_type": "code",
   "execution_count": 117,
   "metadata": {},
   "outputs": [
    {
     "data": {
      "text/html": [
       "0.137360563948689"
      ],
      "text/latex": [
       "0.137360563948689"
      ],
      "text/markdown": [
       "0.137360563948689"
      ],
      "text/plain": [
       "[1] 0.1373606"
      ]
     },
     "metadata": {},
     "output_type": "display_data"
    },
    {
     "data": {
      "text/html": [
       "-0.137360563948689"
      ],
      "text/latex": [
       "-0.137360563948689"
      ],
      "text/markdown": [
       "-0.137360563948689"
      ],
      "text/plain": [
       "[1] -0.1373606"
      ]
     },
     "metadata": {},
     "output_type": "display_data"
    }
   ],
   "source": [
    "2/sqrt(length(sp))\n",
    "-2/sqrt(length(sp))"
   ]
  },
  {
   "cell_type": "markdown",
   "metadata": {},
   "source": [
    "The joint significance of autocorrelation can be examined using Ljung Box Q statistics. For example the following code computes joint significance of first two autocorrelations."
   ]
  },
  {
   "cell_type": "code",
   "execution_count": 118,
   "metadata": {},
   "outputs": [
    {
     "data": {
      "text/plain": [
       "\n",
       "\tBox-Ljung test\n",
       "\n",
       "data:  sp\n",
       "X-squared = 256.67, df = 2, p-value < 2.2e-16\n"
      ]
     },
     "metadata": {},
     "output_type": "display_data"
    }
   ],
   "source": [
    "Box.test(sp,lag=2,type=\"Ljung-Box\")"
   ]
  },
  {
   "cell_type": "markdown",
   "metadata": {},
   "source": [
    "The first 12 Q statistics along with the numerical values of ACF and PACF  are given below"
   ]
  },
  {
   "cell_type": "code",
   "execution_count": 119,
   "metadata": {},
   "outputs": [
    {
     "data": {
      "text/html": [
       "<table class=\"dataframe\">\n",
       "<caption>A matrix: 4 × 10 of type dbl</caption>\n",
       "<thead>\n",
       "\t<tr><th></th><th scope=col>1</th><th scope=col>2</th><th scope=col>3</th><th scope=col>4</th><th scope=col>5</th><th scope=col>6</th><th scope=col>7</th><th scope=col>8</th><th scope=col>9</th><th scope=col>10</th></tr>\n",
       "</thead>\n",
       "<tbody>\n",
       "\t<tr><th scope=row>ACF</th><td>  0.86</td><td>  0.68</td><td>  0.55</td><td>  0.41</td><td>  0.28</td><td>  0.15</td><td>  0.07</td><td>  0.04</td><td> -0.03</td><td> -0.13</td></tr>\n",
       "\t<tr><th scope=row>PACF</th><td>  0.86</td><td> -0.21</td><td>  0.11</td><td> -0.18</td><td> -0.01</td><td> -0.14</td><td>  0.14</td><td>  0.01</td><td> -0.18</td><td> -0.12</td></tr>\n",
       "\t<tr><th scope=row>Q-stat</th><td>157.69</td><td>256.67</td><td>322.03</td><td>358.66</td><td>375.68</td><td>380.57</td><td>381.69</td><td>382.04</td><td>382.27</td><td>385.90</td></tr>\n",
       "\t<tr><th scope=row>pval</th><td>  0.00</td><td>  0.00</td><td>  0.00</td><td>  0.00</td><td>  0.00</td><td>  0.00</td><td>  0.00</td><td>  0.00</td><td>  0.00</td><td>  0.00</td></tr>\n",
       "</tbody>\n",
       "</table>\n"
      ],
      "text/latex": [
       "A matrix: 4 × 10 of type dbl\n",
       "\\begin{tabular}{r|llllllllll}\n",
       "  & 1 & 2 & 3 & 4 & 5 & 6 & 7 & 8 & 9 & 10\\\\\n",
       "\\hline\n",
       "\tACF &   0.86 &   0.68 &   0.55 &   0.41 &   0.28 &   0.15 &   0.07 &   0.04 &  -0.03 &  -0.13\\\\\n",
       "\tPACF &   0.86 &  -0.21 &   0.11 &  -0.18 &  -0.01 &  -0.14 &   0.14 &   0.01 &  -0.18 &  -0.12\\\\\n",
       "\tQ-stat & 157.69 & 256.67 & 322.03 & 358.66 & 375.68 & 380.57 & 381.69 & 382.04 & 382.27 & 385.90\\\\\n",
       "\tpval &   0.00 &   0.00 &   0.00 &   0.00 &   0.00 &   0.00 &   0.00 &   0.00 &   0.00 &   0.00\\\\\n",
       "\\end{tabular}\n"
      ],
      "text/markdown": [
       "\n",
       "A matrix: 4 × 10 of type dbl\n",
       "\n",
       "| <!--/--> | 1 | 2 | 3 | 4 | 5 | 6 | 7 | 8 | 9 | 10 |\n",
       "|---|---|---|---|---|---|---|---|---|---|---|\n",
       "| ACF |   0.86 |   0.68 |   0.55 |   0.41 |   0.28 |   0.15 |   0.07 |   0.04 |  -0.03 |  -0.13 |\n",
       "| PACF |   0.86 |  -0.21 |   0.11 |  -0.18 |  -0.01 |  -0.14 |   0.14 |   0.01 |  -0.18 |  -0.12 |\n",
       "| Q-stat | 157.69 | 256.67 | 322.03 | 358.66 | 375.68 | 380.57 | 381.69 | 382.04 | 382.27 | 385.90 |\n",
       "| pval |   0.00 |   0.00 |   0.00 |   0.00 |   0.00 |   0.00 |   0.00 |   0.00 |   0.00 |   0.00 |\n",
       "\n"
      ],
      "text/plain": [
       "       1      2      3      4      5      6      7      8      9      10    \n",
       "ACF      0.86   0.68   0.55   0.41   0.28   0.15   0.07   0.04  -0.03  -0.13\n",
       "PACF     0.86  -0.21   0.11  -0.18  -0.01  -0.14   0.14   0.01  -0.18  -0.12\n",
       "Q-stat 157.69 256.67 322.03 358.66 375.68 380.57 381.69 382.04 382.27 385.90\n",
       "pval     0.00   0.00   0.00   0.00   0.00   0.00   0.00   0.00   0.00   0.00"
      ]
     },
     "metadata": {},
     "output_type": "display_data"
    }
   ],
   "source": [
    "\n",
    "#ACF\n",
    "sacf <- acf(sp,plot=F,10)\n",
    "#PACF\n",
    "spacf <- pacf(sp,plot=F,10)\n",
    "df1 <-as.matrix(rbind(ACF=sacf$acf[2:11],PACF=spacf$acf))\n",
    " \n",
    "#Ljung Box Q stat\n",
    "\n",
    "Mjb <- matrix(nrow=2, ncol=10)\n",
    "for(i in 1:10){\n",
    "        jb <- Box.test(sp, lag=i, type=\"Ljung-Box\")\n",
    "        round(Mjb[1,i] <- jb$statistic,2)\n",
    "        round(Mjb[2,i] <- jb$p.value,2)\n",
    "}\n",
    "\n",
    "dimnames(Mjb) <- list(c(\"Q-stat\",\"pval\"))\n",
    "\n",
    "# Combine ACF and Qstat                                                                                             \n",
    "\n",
    "dimnames(df1) = list(c(\"ACF\",\"PACF\"), as.character(1:10))\n",
    "df1 <- rbind(df1,Mjb)\n",
    "round(df1,2)"
   ]
  },
  {
   "cell_type": "code",
   "execution_count": 120,
   "metadata": {},
   "outputs": [
    {
     "data": {
      "image/png": "[encoded data removed]",
      "text/plain": [
       "plot without title"
      ]
     },
     "metadata": {
      "image/png": {
       "height": 420,
       "width": 420
      }
     },
     "output_type": "display_data"
    },
    {
     "data": {
      "image/png": "[encoded data removed]",
      "text/plain": [
       "plot without title"
      ]
     },
     "metadata": {
      "image/png": {
       "height": 420,
       "width": 420
      }
     },
     "output_type": "display_data"
    }
   ],
   "source": [
    "sacf.graph1(sp,12)+ggtitle(\"Figure 2: ACF of interest rate spread\")\n",
    "spacf.graph1(sp,12)+ggtitle(\"Figure 3: PACF of interest rate spread\")"
   ]
  },
  {
   "cell_type": "markdown",
   "metadata": {},
   "source": [
    "-  The ACF and PACF converge to zero quickly enough that we do not have to worry about a time-varying mean. \n",
    "-  Recall that the theoretical ACF of a pure MA(q) process cuts off to zero at lag q. Plot of the ACF don't exhibit such a behavior hence possibility of pure MA(q) process can be eliminated.\n",
    "- Theoretical ACF of an AR(1)model decays geometrically.Examination of numerical values of ACF rules out this possibility too.\n",
    "-  The estimated values of the PACF are such that $\\phi_{11} = 0.86, \\phi_{22} = -0.21,\\phi_{33} = 0.11,$ and $\\phi_{44} = -0.18.$ Although $\\phi_{55}$ is close to zero, $\\phi_{66} = -0.15$ and $\\phi_{77} = 0.14.$ It is clear from the figure that $\\phi_{11} = 0.86, \\phi_{22} = -0.21, \\phi_{44} = -0.18,\\phi_{66} = -0.15$ and $\\phi_{77} = 0.14.$ are statistically different from zero.In a pure AR(p) model, the PACF cuts to zero after lag p. Hence, if the  series follows a pure AR(p) process, the value of p could be as high as six or seven.\n",
    "-  There appears to be an oscillating pattern in the PACF in that the first seven values alternate in sign. Oscillating decay of the PACF is characteristic of a positive MA coefficient (Cycles?).\n",
    "- Due to the number of small and marginally significant coefficients, the ACF and PACF of the spread are probably more ambiguous.\n",
    "-  Examining the PACF and ACF we can think of an AR(7) or ARMA(1,1) Process. Let us start with AR(7).\n",
    " "
   ]
  },
  {
   "cell_type": "markdown",
   "metadata": {},
   "source": [
    "### Estimation: First model"
   ]
  },
  {
   "cell_type": "code",
   "execution_count": 121,
   "metadata": {},
   "outputs": [
    {
     "data": {
      "text/html": [
       "<table class=\"dataframe\">\n",
       "<caption>A matrix: 2 × 8 of type dbl</caption>\n",
       "<thead>\n",
       "\t<tr><th></th><th scope=col>AR1</th><th scope=col>AR2</th><th scope=col>AR3</th><th scope=col>AR4</th><th scope=col>AR5</th><th scope=col>AR6</th><th scope=col>AR7</th><th scope=col>mu</th></tr>\n",
       "</thead>\n",
       "<tbody>\n",
       "\t<tr><th scope=row>Coefficients</th><td>1.11</td><td>-0.44</td><td>0.39</td><td>-0.29</td><td>0.22</td><td>-0.29</td><td>0.13</td><td>1.2</td></tr>\n",
       "\t<tr><th scope=row>P Value</th><td>0.00</td><td> 0.00</td><td>0.00</td><td> 0.01</td><td>0.04</td><td> 0.00</td><td>0.05</td><td>0.0</td></tr>\n",
       "</tbody>\n",
       "</table>\n"
      ],
      "text/latex": [
       "A matrix: 2 × 8 of type dbl\n",
       "\\begin{tabular}{r|llllllll}\n",
       "  & AR1 & AR2 & AR3 & AR4 & AR5 & AR6 & AR7 & mu\\\\\n",
       "\\hline\n",
       "\tCoefficients & 1.11 & -0.44 & 0.39 & -0.29 & 0.22 & -0.29 & 0.13 & 1.2\\\\\n",
       "\tP Value & 0.00 &  0.00 & 0.00 &  0.01 & 0.04 &  0.00 & 0.05 & 0.0\\\\\n",
       "\\end{tabular}\n"
      ],
      "text/markdown": [
       "\n",
       "A matrix: 2 × 8 of type dbl\n",
       "\n",
       "| <!--/--> | AR1 | AR2 | AR3 | AR4 | AR5 | AR6 | AR7 | mu |\n",
       "|---|---|---|---|---|---|---|---|---|\n",
       "| Coefficients | 1.11 | -0.44 | 0.39 | -0.29 | 0.22 | -0.29 | 0.13 | 1.2 |\n",
       "| P Value | 0.00 |  0.00 | 0.00 |  0.01 | 0.04 |  0.00 | 0.05 | 0.0 |\n",
       "\n"
      ],
      "text/plain": [
       "             AR1  AR2   AR3  AR4   AR5  AR6   AR7  mu \n",
       "Coefficients 1.11 -0.44 0.39 -0.29 0.22 -0.29 0.13 1.2\n",
       "P Value      0.00  0.00 0.00  0.01 0.04  0.00 0.05 0.0"
      ]
     },
     "metadata": {},
     "output_type": "display_data"
    }
   ],
   "source": [
    "library(forecast)\n",
    "\n",
    "mar7 <- Arima(sp,order=c(7,0,0)) \n",
    "# specify the order in order arg.\n",
    "#First value stands for number of AR terms, \n",
    "#second the order of integration and third for MA terms.\n",
    "\n",
    "#Pvalues of ARIMA\n",
    "p_mar7 <- (1-pnorm(abs(mar7$coef)/sqrt(diag(mar7$var.coef))))*1.96\n",
    "### presenting the results with p values\n",
    "df_mar7 <-as.matrix(rbind(mar7$coef,p_mar7))\n",
    "\n",
    "dimnames(df_mar7) = list(c(\"Coefficients\",\"P Value\"),c(\"AR1\",\"AR2\",\"AR3\",\"AR4\",\"AR5\",\"AR6\",\"AR7\",\"mu\"))\n",
    "round(df_mar7,2)"
   ]
  },
  {
   "cell_type": "markdown",
   "metadata": {},
   "source": [
    "#### Diagnostic Checking: AR(7)"
   ]
  },
  {
   "cell_type": "code",
   "execution_count": 122,
   "metadata": {},
   "outputs": [
    {
     "data": {
      "image/png": "[encoded data removed]",
      "text/plain": [
       "plot without title"
      ]
     },
     "metadata": {
      "image/png": {
       "height": 420,
       "width": 420
      }
     },
     "output_type": "display_data"
    }
   ],
   "source": [
    "car7 <- mar7$coef[1:7]\n",
    "rar7 <- (polyroot(c(1,-car7)))^{-1}\n",
    "\n",
    "roots_arma(rar7)+ggtitle(\"Figure 4:Inverse of the AR roots/ eigen values of F matrix\")"
   ]
  },
  {
   "cell_type": "markdown",
   "metadata": {},
   "source": [
    " The model is stable and stationary since all the eigen values are inside the unit circle.\n",
    "\n",
    "\n",
    "\n",
    "-  All the coefficients are statistically significant at 5% level except AR(7)\n",
    "-  R reports the unconditional mean in the estimation (mu). You can easily find out the intercept using the formula for $\\mu$.\n",
    "-  Next, we need to check the properties of residuals using ACF, PACF and Q\n",
    "-  Plots of ACF, PACF and estimates of Q stat of residuals are given below.\n",
    "\n",
    " "
   ]
  },
  {
   "cell_type": "code",
   "execution_count": 123,
   "metadata": {},
   "outputs": [
    {
     "data": {
      "image/png": "[encoded data removed]",
      "text/plain": [
       "plot without title"
      ]
     },
     "metadata": {
      "image/png": {
       "height": 420,
       "width": 420
      }
     },
     "output_type": "display_data"
    },
    {
     "data": {
      "image/png": "[encoded data removed]",
      "text/plain": [
       "plot without title"
      ]
     },
     "metadata": {
      "image/png": {
       "height": 420,
       "width": 420
      }
     },
     "output_type": "display_data"
    }
   ],
   "source": [
    "res_ar7 <- mar7$residuals\n",
    "sacf.graph1(res_ar7,12)+ggtitle(\"Figure 5: ACF of residuls from AR(7)\")\n",
    "spacf.graph1(res_ar7,12)+ggtitle(\"Figure 6: ACF of residuls from AR(7)\")"
   ]
  },
  {
   "cell_type": "code",
   "execution_count": 124,
   "metadata": {},
   "outputs": [
    {
     "data": {
      "text/html": [
       "<table class=\"dataframe\">\n",
       "<caption>A matrix: 2 × 12 of type dbl</caption>\n",
       "<tbody>\n",
       "\t<tr><th scope=row>Q-stat</th><td>0.00</td><td>0.18</td><td>0.19</td><td>0.2</td><td>0.74</td><td>0.83</td><td>1.52</td><td>5.40</td><td>6.22</td><td>6.22</td><td>13.02</td><td>13.11</td></tr>\n",
       "\t<tr><th scope=row>pval</th><td>0.99</td><td>0.92</td><td>0.98</td><td>1.0</td><td>0.98</td><td>0.99</td><td>0.98</td><td>0.71</td><td>0.72</td><td>0.80</td><td> 0.29</td><td> 0.36</td></tr>\n",
       "</tbody>\n",
       "</table>\n"
      ],
      "text/latex": [
       "A matrix: 2 × 12 of type dbl\n",
       "\\begin{tabular}{r|llllllllllll}\n",
       "\tQ-stat & 0.00 & 0.18 & 0.19 & 0.2 & 0.74 & 0.83 & 1.52 & 5.40 & 6.22 & 6.22 & 13.02 & 13.11\\\\\n",
       "\tpval & 0.99 & 0.92 & 0.98 & 1.0 & 0.98 & 0.99 & 0.98 & 0.71 & 0.72 & 0.80 &  0.29 &  0.36\\\\\n",
       "\\end{tabular}\n"
      ],
      "text/markdown": [
       "\n",
       "A matrix: 2 × 12 of type dbl\n",
       "\n",
       "| Q-stat | 0.00 | 0.18 | 0.19 | 0.2 | 0.74 | 0.83 | 1.52 | 5.40 | 6.22 | 6.22 | 13.02 | 13.11 |\n",
       "| pval | 0.99 | 0.92 | 0.98 | 1.0 | 0.98 | 0.99 | 0.98 | 0.71 | 0.72 | 0.80 |  0.29 |  0.36 |\n",
       "\n"
      ],
      "text/plain": [
       "       [,1] [,2] [,3] [,4] [,5] [,6] [,7] [,8] [,9] [,10] [,11] [,12]\n",
       "Q-stat 0.00 0.18 0.19 0.2  0.74 0.83 1.52 5.40 6.22 6.22  13.02 13.11\n",
       "pval   0.99 0.92 0.98 1.0  0.98 0.99 0.98 0.71 0.72 0.80   0.29  0.36"
      ]
     },
     "metadata": {},
     "output_type": "display_data"
    }
   ],
   "source": [
    "#Ljung Box Q stat\n",
    "\n",
    "Mjb <- matrix(nrow=2, ncol=12)\n",
    "for(i in 1:12){\n",
    "        jb <- Box.test(res_ar7, lag=i, type=\"Ljung-Box\")\n",
    "        round(Mjb[1,i] <- jb$statistic,2)\n",
    "        round(Mjb[2,i] <- jb$p.value,2)\n",
    "}\n",
    "\n",
    "#Ljung Box Q statistics for residuals of AR(7)\n",
    "dimnames(Mjb) <- list(c(\"Q-stat\",\"pval\"))\n",
    " round(Mjb,2)"
   ]
  },
  {
   "cell_type": "markdown",
   "metadata": {},
   "source": [
    "-  Plot of ACF and PACF of residuals indicate presence of autocorrelation at lag 11.To confirm it we can check Q stat.\n",
    "-  The significance levels of the Q-statistics  indicate no remaining autocorrelation in the residuals. Hence there is no need to account for the autocorrelation at lag 11.\n",
    "-  Although the AR(7) model has some desirable attributes, one reasonable estimation strategy is to eliminate the seventh lag and estimate an AR(6) model over the same sample period. \n",
    " \n",
    "### Second Attempt: AR(6)\n",
    "Note that the data set begins in 1960Q1, so that with seven lags the estimation of the AR(7) begins in 1961Q4. For comparable results we will estimate AR(6) for the same sample"
   ]
  },
  {
   "cell_type": "code",
   "execution_count": 125,
   "metadata": {},
   "outputs": [
    {
     "data": {
      "text/html": [
       "<table class=\"dataframe\">\n",
       "<caption>A matrix: 2 × 7 of type dbl</caption>\n",
       "<thead>\n",
       "\t<tr><th></th><th scope=col>AR1</th><th scope=col>AR2</th><th scope=col>AR3</th><th scope=col>AR4</th><th scope=col>AR5</th><th scope=col>AR6</th><th scope=col>mu</th></tr>\n",
       "</thead>\n",
       "<tbody>\n",
       "\t<tr><th scope=row>Coefficients</th><td>1.09</td><td>-0.42</td><td>0.36</td><td>-0.24</td><td>0.16</td><td>-0.14</td><td>1.21</td></tr>\n",
       "\t<tr><th scope=row>P Value</th><td>0.00</td><td> 0.00</td><td>0.00</td><td> 0.02</td><td>0.11</td><td> 0.03</td><td>0.00</td></tr>\n",
       "</tbody>\n",
       "</table>\n"
      ],
      "text/latex": [
       "A matrix: 2 × 7 of type dbl\n",
       "\\begin{tabular}{r|lllllll}\n",
       "  & AR1 & AR2 & AR3 & AR4 & AR5 & AR6 & mu\\\\\n",
       "\\hline\n",
       "\tCoefficients & 1.09 & -0.42 & 0.36 & -0.24 & 0.16 & -0.14 & 1.21\\\\\n",
       "\tP Value & 0.00 &  0.00 & 0.00 &  0.02 & 0.11 &  0.03 & 0.00\\\\\n",
       "\\end{tabular}\n"
      ],
      "text/markdown": [
       "\n",
       "A matrix: 2 × 7 of type dbl\n",
       "\n",
       "| <!--/--> | AR1 | AR2 | AR3 | AR4 | AR5 | AR6 | mu |\n",
       "|---|---|---|---|---|---|---|---|\n",
       "| Coefficients | 1.09 | -0.42 | 0.36 | -0.24 | 0.16 | -0.14 | 1.21 |\n",
       "| P Value | 0.00 |  0.00 | 0.00 |  0.02 | 0.11 |  0.03 | 0.00 |\n",
       "\n"
      ],
      "text/plain": [
       "             AR1  AR2   AR3  AR4   AR5  AR6   mu  \n",
       "Coefficients 1.09 -0.42 0.36 -0.24 0.16 -0.14 1.21\n",
       "P Value      0.00  0.00 0.00  0.02 0.11  0.03 0.00"
      ]
     },
     "metadata": {},
     "output_type": "display_data"
    }
   ],
   "source": [
    "\n",
    "sp1 <-window(sp,start=c(1960,2))\n",
    "\n",
    "mar6 <- Arima(sp1,order=c(6,0,0)) \n",
    "\n",
    "#Pvalues of ARIMA\n",
    "p_mar6 <- (1-pnorm(abs(mar6$coef)/sqrt(diag(mar6$var.coef))))*1.96\n",
    "# presenting the results with p values\n",
    "df_mar6 <-as.matrix(rbind(mar6$coef,p_mar6))\n",
    "\n",
    "dimnames(df_mar6) = list(c(\"Coefficients\",\"P Value\"),c(\"AR1\",\"AR2\",\"AR3\",\"AR4\",\"AR5\",\"AR6\",\"mu\"))\n",
    "\n",
    "round(df_mar6,2)"
   ]
  },
  {
   "cell_type": "markdown",
   "metadata": {},
   "source": [
    "#### Diagnostic Checking: AR(6)"
   ]
  },
  {
   "cell_type": "code",
   "execution_count": 126,
   "metadata": {},
   "outputs": [
    {
     "data": {
      "image/png": "[encoded data removed]",
      "text/plain": [
       "plot without title"
      ]
     },
     "metadata": {
      "image/png": {
       "height": 420,
       "width": 420
      }
     },
     "output_type": "display_data"
    }
   ],
   "source": [
    "car6 <- mar6$coef[1:6]\n",
    "rar6 <- (polyroot(c(1,-car6)))^{-1}\n",
    "\n",
    "roots_arma(rar6)+ggtitle(\"Figure 7:Inverse of the AR roots\")"
   ]
  },
  {
   "cell_type": "code",
   "execution_count": 127,
   "metadata": {},
   "outputs": [
    {
     "data": {
      "text/html": [
       "<table class=\"dataframe\">\n",
       "<caption>A matrix: 2 × 12 of type dbl</caption>\n",
       "<tbody>\n",
       "\t<tr><th scope=row>Q-stat</th><td>0.13</td><td>0.13</td><td>0.13</td><td>0.31</td><td>0.34</td><td>2.08</td><td>2.73</td><td>10.73</td><td>12.03</td><td>12.14</td><td>16.03</td><td>16.39</td></tr>\n",
       "\t<tr><th scope=row>pval</th><td>0.72</td><td>0.94</td><td>0.99</td><td>0.99</td><td>1.00</td><td>0.91</td><td>0.91</td><td> 0.22</td><td> 0.21</td><td> 0.28</td><td> 0.14</td><td> 0.17</td></tr>\n",
       "</tbody>\n",
       "</table>\n"
      ],
      "text/latex": [
       "A matrix: 2 × 12 of type dbl\n",
       "\\begin{tabular}{r|llllllllllll}\n",
       "\tQ-stat & 0.13 & 0.13 & 0.13 & 0.31 & 0.34 & 2.08 & 2.73 & 10.73 & 12.03 & 12.14 & 16.03 & 16.39\\\\\n",
       "\tpval & 0.72 & 0.94 & 0.99 & 0.99 & 1.00 & 0.91 & 0.91 &  0.22 &  0.21 &  0.28 &  0.14 &  0.17\\\\\n",
       "\\end{tabular}\n"
      ],
      "text/markdown": [
       "\n",
       "A matrix: 2 × 12 of type dbl\n",
       "\n",
       "| Q-stat | 0.13 | 0.13 | 0.13 | 0.31 | 0.34 | 2.08 | 2.73 | 10.73 | 12.03 | 12.14 | 16.03 | 16.39 |\n",
       "| pval | 0.72 | 0.94 | 0.99 | 0.99 | 1.00 | 0.91 | 0.91 |  0.22 |  0.21 |  0.28 |  0.14 |  0.17 |\n",
       "\n"
      ],
      "text/plain": [
       "       [,1] [,2] [,3] [,4] [,5] [,6] [,7] [,8]  [,9]  [,10] [,11] [,12]\n",
       "Q-stat 0.13 0.13 0.13 0.31 0.34 2.08 2.73 10.73 12.03 12.14 16.03 16.39\n",
       "pval   0.72 0.94 0.99 0.99 1.00 0.91 0.91  0.22  0.21  0.28  0.14  0.17"
      ]
     },
     "metadata": {},
     "output_type": "display_data"
    }
   ],
   "source": [
    "#Ljung Box Q stat\n",
    "res_ar6 <- mar6$residuals\n",
    "Mjb <- matrix(nrow=2, ncol=12)\n",
    "for(i in 1:12){\n",
    "        jb <- Box.test(res_ar6, lag=i, type=\"Ljung-Box\")\n",
    "        round(Mjb[1,i] <- jb$statistic,2)\n",
    "        round(Mjb[2,i] <- jb$p.value,2)\n",
    "}\n",
    "\n",
    "dimnames(Mjb) <- list(c(\"Q-stat\",\"pval\"))\n",
    "\n",
    "round(Mjb,2)"
   ]
  },
  {
   "cell_type": "code",
   "execution_count": 128,
   "metadata": {},
   "outputs": [
    {
     "data": {
      "image/png": "[encoded data removed]",
      "text/plain": [
       "plot without title"
      ]
     },
     "metadata": {
      "image/png": {
       "height": 420,
       "width": 420
      }
     },
     "output_type": "display_data"
    },
    {
     "data": {
      "image/png": "[encoded data removed]",
      "text/plain": [
       "plot without title"
      ]
     },
     "metadata": {
      "image/png": {
       "height": 420,
       "width": 420
      }
     },
     "output_type": "display_data"
    }
   ],
   "source": [
    "sacf.graph1(res_ar6,12)+ggtitle(\"Figure 8: ACF of residuls from AR(6)\")\n",
    "spacf.graph1(res_ar6,12)+ggtitle(\"Figure 9: ACF of residuls from AR(6)\")"
   ]
  },
  {
   "cell_type": "markdown",
   "metadata": {},
   "source": [
    "-  Although there is autocorrelations in  the residuals at some lags the Q-statistics fail to  reject the null of no autocorrelation at all lags.\n",
    "-  Although AR5 appears to be statistically insignificant, it is generally\n",
    "not a good idea to use t-statistics to eliminate intermediate lags. As such, most\n",
    "researchers would not eliminate the fifth lag and estimate a model with lags 1 through\n",
    "4 and lag 6. Recall that the appropriate use of a t-statistic requires that regressor in question be uncorrelated with the other regressors. (But you can try. If you get a better  model you can use it. )\n",
    "-  The overall result is that the diagnostic checks of the AR(6) model suggests that it is adequate.\n",
    "We can compare these two  models using AIC and SBC criteria\n",
    " "
   ]
  },
  {
   "cell_type": "code",
   "execution_count": 129,
   "metadata": {},
   "outputs": [
    {
     "data": {
      "text/html": [
       "289.321387367026"
      ],
      "text/latex": [
       "289.321387367026"
      ],
      "text/markdown": [
       "289.321387367026"
      ],
      "text/plain": [
       "[1] 289.3214"
      ]
     },
     "metadata": {},
     "output_type": "display_data"
    }
   ],
   "source": [
    "mar7$aic # AIC for AR(7)"
   ]
  },
  {
   "cell_type": "code",
   "execution_count": 130,
   "metadata": {},
   "outputs": [
    {
     "data": {
      "text/html": [
       "289.543729388152"
      ],
      "text/latex": [
       "289.543729388152"
      ],
      "text/markdown": [
       "289.543729388152"
      ],
      "text/plain": [
       "[1] 289.5437"
      ]
     },
     "metadata": {},
     "output_type": "display_data"
    }
   ],
   "source": [
    "mar6$aic  #AIC for AR(6)"
   ]
  },
  {
   "cell_type": "code",
   "execution_count": 131,
   "metadata": {},
   "outputs": [
    {
     "data": {
      "text/html": [
       "319.530663839074"
      ],
      "text/latex": [
       "319.530663839074"
      ],
      "text/markdown": [
       "319.530663839074"
      ],
      "text/plain": [
       "[1] 319.5307"
      ]
     },
     "metadata": {},
     "output_type": "display_data"
    }
   ],
   "source": [
    "mar7$bic # SBC for AR(7)"
   ]
  },
  {
   "cell_type": "code",
   "execution_count": 132,
   "metadata": {},
   "outputs": [
    {
     "data": {
      "text/html": [
       "316.35859445596"
      ],
      "text/latex": [
       "316.35859445596"
      ],
      "text/markdown": [
       "316.35859445596"
      ],
      "text/plain": [
       "[1] 316.3586"
      ]
     },
     "metadata": {},
     "output_type": "display_data"
    }
   ],
   "source": [
    "mar6$bic #  SBC for AR(6)"
   ]
  },
  {
   "cell_type": "markdown",
   "metadata": {},
   "source": [
    " Thus the AIC selects the AR(7) model, whereas the SBC selects\n",
    "the more parsimonious AR(6) model.\n",
    "\n",
    "Let us try a very parsimonious model and estimate an AR(2).\n",
    "### Third Attempt: AR(2)"
   ]
  },
  {
   "cell_type": "code",
   "execution_count": 133,
   "metadata": {},
   "outputs": [
    {
     "data": {
      "text/html": [
       "<table class=\"dataframe\">\n",
       "<caption>A matrix: 2 × 3 of type dbl</caption>\n",
       "<thead>\n",
       "\t<tr><th></th><th scope=col>AR1</th><th scope=col>AR2</th><th scope=col>mu</th></tr>\n",
       "</thead>\n",
       "<tbody>\n",
       "\t<tr><th scope=row>Coefficients</th><td>1.04</td><td>-0.22</td><td>1.21</td></tr>\n",
       "\t<tr><th scope=row>P Value</th><td>0.00</td><td> 0.00</td><td>0.00</td></tr>\n",
       "</tbody>\n",
       "</table>\n"
      ],
      "text/latex": [
       "A matrix: 2 × 3 of type dbl\n",
       "\\begin{tabular}{r|lll}\n",
       "  & AR1 & AR2 & mu\\\\\n",
       "\\hline\n",
       "\tCoefficients & 1.04 & -0.22 & 1.21\\\\\n",
       "\tP Value & 0.00 &  0.00 & 0.00\\\\\n",
       "\\end{tabular}\n"
      ],
      "text/markdown": [
       "\n",
       "A matrix: 2 × 3 of type dbl\n",
       "\n",
       "| <!--/--> | AR1 | AR2 | mu |\n",
       "|---|---|---|---|\n",
       "| Coefficients | 1.04 | -0.22 | 1.21 |\n",
       "| P Value | 0.00 |  0.00 | 0.00 |\n",
       "\n"
      ],
      "text/plain": [
       "             AR1  AR2   mu  \n",
       "Coefficients 1.04 -0.22 1.21\n",
       "P Value      0.00  0.00 0.00"
      ]
     },
     "metadata": {},
     "output_type": "display_data"
    }
   ],
   "source": [
    "sp2 <-window(sp,start=c(1961,2))\n",
    "\n",
    "mar2 <- Arima(sp1,order=c(2,0,0)) \n",
    "\n",
    "#Pvalues of ARIMA\n",
    "p_mar2 <- (1-pnorm(abs(mar2$coef)/sqrt(diag(mar2$var.coef))))*1.96\n",
    "### presenting the results with p values\n",
    "df_mar2 <-as.matrix(rbind(mar2$coef,p_mar2))\n",
    "\n",
    "dimnames(df_mar2) = list(c(\"Coefficients\",\"P Value\"),c(\"AR1\",\"AR2\",\"mu\"))\n",
    "\n",
    "round(df_mar2,2)"
   ]
  },
  {
   "cell_type": "markdown",
   "metadata": {},
   "source": [
    "#### Diagnostic Checking: AR(2)"
   ]
  },
  {
   "cell_type": "code",
   "execution_count": 134,
   "metadata": {},
   "outputs": [
    {
     "data": {
      "image/png": "[encoded data removed]",
      "text/plain": [
       "plot without title"
      ]
     },
     "metadata": {
      "image/png": {
       "height": 420,
       "width": 420
      }
     },
     "output_type": "display_data"
    }
   ],
   "source": [
    "car2 <- mar2$coef[1:2]\n",
    "rar2 <- (polyroot(c(1,-car2)))^{-1}\n",
    "\n",
    "roots_arma(rar2)+ggtitle(\"Figure 10:Inverse of the AR roots\")"
   ]
  },
  {
   "cell_type": "markdown",
   "metadata": {},
   "source": [
    " \n",
    " The roots are within the unit circle and AR(2) satisfies the stability condition."
   ]
  },
  {
   "cell_type": "code",
   "execution_count": 135,
   "metadata": {},
   "outputs": [
    {
     "data": {
      "text/html": [
       "<table class=\"dataframe\">\n",
       "<caption>A matrix: 2 × 12 of type dbl</caption>\n",
       "<tbody>\n",
       "\t<tr><th scope=row>Q-stat</th><td>0.19</td><td>3.79</td><td>9.17</td><td>9.22</td><td>10.53</td><td>12.87</td><td>16.86</td><td>21.84</td><td>22.61</td><td>23.68</td><td>29.34</td><td>29.34</td></tr>\n",
       "\t<tr><th scope=row>pval</th><td>0.67</td><td>0.15</td><td>0.03</td><td>0.06</td><td> 0.06</td><td> 0.05</td><td> 0.02</td><td> 0.01</td><td> 0.01</td><td> 0.01</td><td> 0.00</td><td> 0.00</td></tr>\n",
       "</tbody>\n",
       "</table>\n"
      ],
      "text/latex": [
       "A matrix: 2 × 12 of type dbl\n",
       "\\begin{tabular}{r|llllllllllll}\n",
       "\tQ-stat & 0.19 & 3.79 & 9.17 & 9.22 & 10.53 & 12.87 & 16.86 & 21.84 & 22.61 & 23.68 & 29.34 & 29.34\\\\\n",
       "\tpval & 0.67 & 0.15 & 0.03 & 0.06 &  0.06 &  0.05 &  0.02 &  0.01 &  0.01 &  0.01 &  0.00 &  0.00\\\\\n",
       "\\end{tabular}\n"
      ],
      "text/markdown": [
       "\n",
       "A matrix: 2 × 12 of type dbl\n",
       "\n",
       "| Q-stat | 0.19 | 3.79 | 9.17 | 9.22 | 10.53 | 12.87 | 16.86 | 21.84 | 22.61 | 23.68 | 29.34 | 29.34 |\n",
       "| pval | 0.67 | 0.15 | 0.03 | 0.06 |  0.06 |  0.05 |  0.02 |  0.01 |  0.01 |  0.01 |  0.00 |  0.00 |\n",
       "\n"
      ],
      "text/plain": [
       "       [,1] [,2] [,3] [,4] [,5]  [,6]  [,7]  [,8]  [,9]  [,10] [,11] [,12]\n",
       "Q-stat 0.19 3.79 9.17 9.22 10.53 12.87 16.86 21.84 22.61 23.68 29.34 29.34\n",
       "pval   0.67 0.15 0.03 0.06  0.06  0.05  0.02  0.01  0.01  0.01  0.00  0.00"
      ]
     },
     "metadata": {},
     "output_type": "display_data"
    }
   ],
   "source": [
    "#Ljung Box Q stat\n",
    "res_ar2 <- mar2$residuals\n",
    "Mjb <- matrix(nrow=2, ncol=12)\n",
    "for(i in 1:12){\n",
    "        jb <- Box.test(res_ar2, lag=i, type=\"Ljung-Box\")\n",
    "        round(Mjb[1,i] <- jb$statistic,2)\n",
    "        round(Mjb[2,i] <- jb$p.value,2)\n",
    "}\n",
    "\n",
    "dimnames(Mjb) <- list(c(\"Q-stat\",\"pval\"))\n",
    "round(Mjb,2)"
   ]
  },
  {
   "cell_type": "code",
   "execution_count": 136,
   "metadata": {},
   "outputs": [
    {
     "data": {
      "image/png": "[encoded data removed]",
      "text/plain": [
       "plot without title"
      ]
     },
     "metadata": {
      "image/png": {
       "height": 420,
       "width": 420
      }
     },
     "output_type": "display_data"
    },
    {
     "data": {
      "image/png": "[encoded data removed]",
      "text/plain": [
       "plot without title"
      ]
     },
     "metadata": {
      "image/png": {
       "height": 420,
       "width": 420
      }
     },
     "output_type": "display_data"
    }
   ],
   "source": [
    "sacf.graph1(res_ar2,12)+ggtitle(\"Figure 11: ACF of residuls from AR(2)\")\n",
    "spacf.graph1(res_ar2,12)+ggtitle(\"Figure 12: ACF of residuls from AR(2)\")"
   ]
  },
  {
   "cell_type": "code",
   "execution_count": 137,
   "metadata": {},
   "outputs": [
    {
     "data": {
      "text/html": [
       "296.471660875954"
      ],
      "text/latex": [
       "296.471660875954"
      ],
      "text/markdown": [
       "296.471660875954"
      ],
      "text/plain": [
       "[1] 296.4717"
      ]
     },
     "metadata": {},
     "output_type": "display_data"
    },
    {
     "data": {
      "text/html": [
       "309.879093409859"
      ],
      "text/latex": [
       "309.879093409859"
      ],
      "text/markdown": [
       "309.879093409859"
      ],
      "text/plain": [
       "[1] 309.8791"
      ]
     },
     "metadata": {},
     "output_type": "display_data"
    }
   ],
   "source": [
    "mar2$aic #AIC  for AR(2)\n",
    "\n",
    "mar2$bic #SBC for AR(2)"
   ]
  },
  {
   "cell_type": "markdown",
   "metadata": {},
   "source": [
    "-  Comparing AR(7) and AR(2) we can see that the AIC selects the AR(7) model, but SBC selects the AR(2) model. \n",
    "\n",
    "-  However, the residual autocorrelations from the AR(2) are\n",
    "problematic.The Q-statistics from the AR(2) model indicate significant autocorrelation in the\n",
    "residuals at the shorter lags. \n",
    "-  As such, AR(2) should be eliminated from further consideration.\n",
    " \n",
    "### Fourth Model :AR(1,2,7)\n",
    "\n",
    "If you examined the AR(7) carefully, you might have noticed that AR3 almost offsets\n",
    "AR4 and that AR5 almost offsets A6 (since AR3 + AR4 =0 and AR5 + AR6=0). We can try another model by reestimatin the model without AR3.AR4,AR5,AR6."
   ]
  },
  {
   "cell_type": "code",
   "execution_count": 138,
   "metadata": {},
   "outputs": [
    {
     "data": {
      "text/html": [
       "<table class=\"dataframe\">\n",
       "<caption>A matrix: 2 × 4 of type dbl</caption>\n",
       "<thead>\n",
       "\t<tr><th></th><th scope=col>AR1</th><th scope=col>AR2</th><th scope=col>AR7</th><th scope=col>mu</th></tr>\n",
       "</thead>\n",
       "<tbody>\n",
       "\t<tr><th scope=row>Coefficients</th><td>1.03</td><td>-0.2</td><td>-0.03</td><td>1.2</td></tr>\n",
       "\t<tr><th scope=row>P Value</th><td>0.00</td><td> 0.0</td><td> 0.41</td><td>0.0</td></tr>\n",
       "</tbody>\n",
       "</table>\n"
      ],
      "text/latex": [
       "A matrix: 2 × 4 of type dbl\n",
       "\\begin{tabular}{r|llll}\n",
       "  & AR1 & AR2 & AR7 & mu\\\\\n",
       "\\hline\n",
       "\tCoefficients & 1.03 & -0.2 & -0.03 & 1.2\\\\\n",
       "\tP Value & 0.00 &  0.0 &  0.41 & 0.0\\\\\n",
       "\\end{tabular}\n"
      ],
      "text/markdown": [
       "\n",
       "A matrix: 2 × 4 of type dbl\n",
       "\n",
       "| <!--/--> | AR1 | AR2 | AR7 | mu |\n",
       "|---|---|---|---|---|\n",
       "| Coefficients | 1.03 | -0.2 | -0.03 | 1.2 |\n",
       "| P Value | 0.00 |  0.0 |  0.41 | 0.0 |\n",
       "\n"
      ],
      "text/plain": [
       "             AR1  AR2  AR7   mu \n",
       "Coefficients 1.03 -0.2 -0.03 1.2\n",
       "P Value      0.00  0.0  0.41 0.0"
      ]
     },
     "metadata": {},
     "output_type": "display_data"
    }
   ],
   "source": [
    "mar127 <- Arima(sp,order=c(7,0,0),fixed=c(NA,NA,0,0,0,0,NA,NA))\n",
    "\n",
    "# use fixed argument to restrict coef values to zero.\n",
    "\n",
    "#Pvalues of ARIMA\n",
    "p_mar127 <- (1-pnorm(abs(mar127$coef)/sqrt(diag(mar127$var.coef))))*1.96\n",
    "### presenting the results with p values\n",
    "df_mar127 <-as.matrix(rbind(mar127$coef[-(3:6)],p_mar127[-(3:6)]))\n",
    "\n",
    "dimnames(df_mar127) = list(c(\"Coefficients\",\"P Value\"),c(\"AR1\",\"AR2\",\"AR7\",\"mu\"))\n",
    "\n",
    "round(df_mar127,2)"
   ]
  },
  {
   "cell_type": "markdown",
   "metadata": {},
   "source": [
    "-  The AR7 is now statistically insignificant, it might seem preferable to use the AR(2) instead. \n",
    "-  Yet, the AR(2) has been shown to be inadequate relative to the AR(7) and the AR(6) models.\n",
    " "
   ]
  },
  {
   "cell_type": "code",
   "execution_count": 139,
   "metadata": {},
   "outputs": [
    {
     "data": {
      "text/html": [
       "<table class=\"dataframe\">\n",
       "<caption>A matrix: 2 × 12 of type dbl</caption>\n",
       "<tbody>\n",
       "\t<tr><th scope=row>Q-stat</th><td>0.19</td><td>4.39</td><td>8.41</td><td>8.42</td><td>9.45</td><td>12.47</td><td>15.35</td><td>22.18</td><td>23.68</td><td>24.27</td><td>28.68</td><td>28.79</td></tr>\n",
       "\t<tr><th scope=row>pval</th><td>0.66</td><td>0.11</td><td>0.04</td><td>0.08</td><td>0.09</td><td> 0.05</td><td> 0.03</td><td> 0.00</td><td> 0.00</td><td> 0.01</td><td> 0.00</td><td> 0.00</td></tr>\n",
       "</tbody>\n",
       "</table>\n"
      ],
      "text/latex": [
       "A matrix: 2 × 12 of type dbl\n",
       "\\begin{tabular}{r|llllllllllll}\n",
       "\tQ-stat & 0.19 & 4.39 & 8.41 & 8.42 & 9.45 & 12.47 & 15.35 & 22.18 & 23.68 & 24.27 & 28.68 & 28.79\\\\\n",
       "\tpval & 0.66 & 0.11 & 0.04 & 0.08 & 0.09 &  0.05 &  0.03 &  0.00 &  0.00 &  0.01 &  0.00 &  0.00\\\\\n",
       "\\end{tabular}\n"
      ],
      "text/markdown": [
       "\n",
       "A matrix: 2 × 12 of type dbl\n",
       "\n",
       "| Q-stat | 0.19 | 4.39 | 8.41 | 8.42 | 9.45 | 12.47 | 15.35 | 22.18 | 23.68 | 24.27 | 28.68 | 28.79 |\n",
       "| pval | 0.66 | 0.11 | 0.04 | 0.08 | 0.09 |  0.05 |  0.03 |  0.00 |  0.00 |  0.01 |  0.00 |  0.00 |\n",
       "\n"
      ],
      "text/plain": [
       "       [,1] [,2] [,3] [,4] [,5] [,6]  [,7]  [,8]  [,9]  [,10] [,11] [,12]\n",
       "Q-stat 0.19 4.39 8.41 8.42 9.45 12.47 15.35 22.18 23.68 24.27 28.68 28.79\n",
       "pval   0.66 0.11 0.04 0.08 0.09  0.05  0.03  0.00  0.00  0.01  0.00  0.00"
      ]
     },
     "metadata": {},
     "output_type": "display_data"
    }
   ],
   "source": [
    "#Ljung Box Q stat\n",
    "res_ar127 <- mar127$residuals\n",
    "Mjb <- matrix(nrow=2, ncol=12)\n",
    "for(i in 1:12){\n",
    "        jb <- Box.test(res_ar127, lag=i, type=\"Ljung-Box\")\n",
    "        round(Mjb[1,i] <- jb$statistic,2)\n",
    "        round(Mjb[2,i] <- jb$p.value,2)\n",
    "}\n",
    "\n",
    "dimnames(Mjb) <- list(c(\"Q-stat\",\"pval\"))\n",
    "\n",
    "round(Mjb,2)"
   ]
  },
  {
   "cell_type": "code",
   "execution_count": 140,
   "metadata": {},
   "outputs": [
    {
     "data": {
      "image/png": "[encoded data removed]",
      "text/plain": [
       "plot without title"
      ]
     },
     "metadata": {
      "image/png": {
       "height": 420,
       "width": 420
      }
     },
     "output_type": "display_data"
    },
    {
     "data": {
      "image/png": "[encoded data removed]",
      "text/plain": [
       "plot without title"
      ]
     },
     "metadata": {
      "image/png": {
       "height": 420,
       "width": 420
      }
     },
     "output_type": "display_data"
    }
   ],
   "source": [
    "sacf.graph1(res_ar127,12)+ggtitle(\"Figure 13: ACF of residuls from AR(1,2,7)\")\n",
    "spacf.graph1(res_ar127,12)+ggtitle(\"Figure 14: ACF of residuls from AR(1,2,7)\")"
   ]
  },
  {
   "cell_type": "markdown",
   "metadata": {},
   "source": [
    "This model also exhibits autocorrelation  in residuals. (See the Q stat)\n",
    "\n",
    "\n",
    "-  Even though the AR(6) and AR(7) models perform relatively well, they are not\n",
    "necessarily the best forecasting models. \n",
    "-  There are several possible alternatives since the patterns of the ACF and PACF are not immediately clear.\n",
    "-  As mentioned earlier the decaying nature of ACF and PACF can be taken as an indication of ARMA(1,1) Model.\n",
    " \n",
    "\n",
    "\n",
    "### Fifth Model: ARMA(1,1)"
   ]
  },
  {
   "cell_type": "code",
   "execution_count": 141,
   "metadata": {},
   "outputs": [
    {
     "data": {
      "text/html": [
       "<table class=\"dataframe\">\n",
       "<caption>A matrix: 2 × 3 of type dbl</caption>\n",
       "<thead>\n",
       "\t<tr><th></th><th scope=col>AR1</th><th scope=col>MA1</th><th scope=col>mu</th></tr>\n",
       "</thead>\n",
       "<tbody>\n",
       "\t<tr><th scope=row>Coefficients</th><td>0.76</td><td>0.38</td><td>1.21</td></tr>\n",
       "\t<tr><th scope=row>P Value</th><td>0.00</td><td>0.00</td><td>0.00</td></tr>\n",
       "</tbody>\n",
       "</table>\n"
      ],
      "text/latex": [
       "A matrix: 2 × 3 of type dbl\n",
       "\\begin{tabular}{r|lll}\n",
       "  & AR1 & MA1 & mu\\\\\n",
       "\\hline\n",
       "\tCoefficients & 0.76 & 0.38 & 1.21\\\\\n",
       "\tP Value & 0.00 & 0.00 & 0.00\\\\\n",
       "\\end{tabular}\n"
      ],
      "text/markdown": [
       "\n",
       "A matrix: 2 × 3 of type dbl\n",
       "\n",
       "| <!--/--> | AR1 | MA1 | mu |\n",
       "|---|---|---|---|\n",
       "| Coefficients | 0.76 | 0.38 | 1.21 |\n",
       "| P Value | 0.00 | 0.00 | 0.00 |\n",
       "\n"
      ],
      "text/plain": [
       "             AR1  MA1  mu  \n",
       "Coefficients 0.76 0.38 1.21\n",
       "P Value      0.00 0.00 0.00"
      ]
     },
     "metadata": {},
     "output_type": "display_data"
    },
    {
     "data": {
      "text/html": [
       "<table class=\"dataframe\">\n",
       "<caption>A matrix: 2 × 12 of type dbl</caption>\n",
       "<tbody>\n",
       "\t<tr><th scope=row>Q-stat</th><td>0.29</td><td>0.59</td><td>6.49</td><td>6.57</td><td>8.30</td><td>9.90</td><td>13.49</td><td>18.16</td><td>18.27</td><td>18.67</td><td>23.91</td><td>23.91</td></tr>\n",
       "\t<tr><th scope=row>pval</th><td>0.59</td><td>0.74</td><td>0.09</td><td>0.16</td><td>0.14</td><td>0.13</td><td> 0.06</td><td> 0.02</td><td> 0.03</td><td> 0.04</td><td> 0.01</td><td> 0.02</td></tr>\n",
       "</tbody>\n",
       "</table>\n"
      ],
      "text/latex": [
       "A matrix: 2 × 12 of type dbl\n",
       "\\begin{tabular}{r|llllllllllll}\n",
       "\tQ-stat & 0.29 & 0.59 & 6.49 & 6.57 & 8.30 & 9.90 & 13.49 & 18.16 & 18.27 & 18.67 & 23.91 & 23.91\\\\\n",
       "\tpval & 0.59 & 0.74 & 0.09 & 0.16 & 0.14 & 0.13 &  0.06 &  0.02 &  0.03 &  0.04 &  0.01 &  0.02\\\\\n",
       "\\end{tabular}\n"
      ],
      "text/markdown": [
       "\n",
       "A matrix: 2 × 12 of type dbl\n",
       "\n",
       "| Q-stat | 0.29 | 0.59 | 6.49 | 6.57 | 8.30 | 9.90 | 13.49 | 18.16 | 18.27 | 18.67 | 23.91 | 23.91 |\n",
       "| pval | 0.59 | 0.74 | 0.09 | 0.16 | 0.14 | 0.13 |  0.06 |  0.02 |  0.03 |  0.04 |  0.01 |  0.02 |\n",
       "\n"
      ],
      "text/plain": [
       "       [,1] [,2] [,3] [,4] [,5] [,6] [,7]  [,8]  [,9]  [,10] [,11] [,12]\n",
       "Q-stat 0.29 0.59 6.49 6.57 8.30 9.90 13.49 18.16 18.27 18.67 23.91 23.91\n",
       "pval   0.59 0.74 0.09 0.16 0.14 0.13  0.06  0.02  0.03  0.04  0.01  0.02"
      ]
     },
     "metadata": {},
     "output_type": "display_data"
    }
   ],
   "source": [
    "sp11 <-window(sp,start=c(1961,3))\n",
    "\n",
    "mar11 <- Arima(sp11,order=c(1,0,1)) \n",
    "\n",
    "#Pvalues of ARIMA\n",
    "p_mar11 <- (1-pnorm(abs(mar11$coef)/sqrt(diag(mar11$var.coef))))*1.96\n",
    "### presenting the results with p values\n",
    "df_mar11 <-as.matrix(rbind(mar11$coef,p_mar11))\n",
    "\n",
    "dimnames(df_mar11) = list(c(\"Coefficients\",\"P Value\"),c(\"AR1\",\"MA1\",\"mu\"))\n",
    "\n",
    "\n",
    "\n",
    "#Ljung Box Q stat\n",
    "res_ar11 <- mar11$residuals\n",
    "Mjb <- matrix(nrow=2, ncol=12)\n",
    "for(i in 1:12){\n",
    "        jb <- Box.test(res_ar11, lag=i, type=\"Ljung-Box\")\n",
    "        round(Mjb[1,i] <- jb$statistic,2)\n",
    "        round(Mjb[2,i] <- jb$p.value,2)\n",
    "}\n",
    "\n",
    "\n",
    "dimnames(Mjb) <- list(c(\"Q-stat\",\"pval\"))\n",
    " round(df_mar11,2)\n",
    "round(Mjb,2)"
   ]
  },
  {
   "cell_type": "code",
   "execution_count": 142,
   "metadata": {},
   "outputs": [
    {
     "data": {
      "image/png": "[encoded data removed]",
      "text/plain": [
       "plot without title"
      ]
     },
     "metadata": {
      "image/png": {
       "height": 420,
       "width": 420
      }
     },
     "output_type": "display_data"
    },
    {
     "data": {
      "image/png": "[encoded data removed]",
      "text/plain": [
       "plot without title"
      ]
     },
     "metadata": {
      "image/png": {
       "height": 420,
       "width": 420
      }
     },
     "output_type": "display_data"
    }
   ],
   "source": [
    "sacf.graph1(res_ar11,12)+ggtitle(\"Figure 15: ACF of residuls from ARMA(1,1)\")\n",
    "spacf.graph1(res_ar11,12)+ggtitle(\"Figure 16: ACF of residuls from ARMA(1,1)\")"
   ]
  },
  {
   "cell_type": "code",
   "execution_count": 143,
   "metadata": {},
   "outputs": [
    {
     "data": {
      "text/html": [
       "289.595728437222"
      ],
      "text/latex": [
       "289.595728437222"
      ],
      "text/markdown": [
       "289.595728437222"
      ],
      "text/plain": [
       "[1] 289.5957"
      ]
     },
     "metadata": {},
     "output_type": "display_data"
    }
   ],
   "source": [
    "#AIC\n",
    "mar11$aic"
   ]
  },
  {
   "cell_type": "code",
   "execution_count": 144,
   "metadata": {},
   "outputs": [
    {
     "data": {
      "text/html": [
       "302.90723311238"
      ],
      "text/latex": [
       "302.90723311238"
      ],
      "text/markdown": [
       "302.90723311238"
      ],
      "text/plain": [
       "[1] 302.9072"
      ]
     },
     "metadata": {},
     "output_type": "display_data"
    }
   ],
   "source": [
    "#SBC\n",
    "mar11$bic\n"
   ]
  },
  {
   "cell_type": "markdown",
   "metadata": {},
   "source": [
    "-  AR and MA coefficient are less than $|1|$ impaling a stationary invertible process.\n",
    "-  The SBC from the ARMA(1, 1) is smaller than that of the AR(7) and the AR(6). \n",
    "-  Nevertheless,the ARMA(1, 1) specification is inadequate because of remaining serial\n",
    "correlation in the residuals. The Ljung-Box Q-statistic  indicate that the residuals from this\n",
    "model exhibit substantial serial autocorrelation. As such, we must eliminate\n",
    "the ARMA(1, 1) model from consideration.\n",
    " \n",
    "\n",
    "Since the ACF decays and the PACF seems to oscillate beginning with lag 2  it seems plausible to estimate an ARMA(2, 1) model.\n",
    "\n",
    "### Sixth Attempt: ARMA(2,1)"
   ]
  },
  {
   "cell_type": "code",
   "execution_count": 145,
   "metadata": {},
   "outputs": [
    {
     "data": {
      "text/html": [
       "<table class=\"dataframe\">\n",
       "<caption>A matrix: 2 × 4 of type dbl</caption>\n",
       "<thead>\n",
       "\t<tr><th></th><th scope=col>AR1</th><th scope=col>AR2</th><th scope=col>MA1</th><th scope=col>mu</th></tr>\n",
       "</thead>\n",
       "<tbody>\n",
       "\t<tr><th scope=row>Coefficients</th><td>0.42</td><td>0.32</td><td>0.7</td><td>1.2</td></tr>\n",
       "\t<tr><th scope=row>P Value</th><td>0.00</td><td>0.01</td><td>0.0</td><td>0.0</td></tr>\n",
       "</tbody>\n",
       "</table>\n"
      ],
      "text/latex": [
       "A matrix: 2 × 4 of type dbl\n",
       "\\begin{tabular}{r|llll}\n",
       "  & AR1 & AR2 & MA1 & mu\\\\\n",
       "\\hline\n",
       "\tCoefficients & 0.42 & 0.32 & 0.7 & 1.2\\\\\n",
       "\tP Value & 0.00 & 0.01 & 0.0 & 0.0\\\\\n",
       "\\end{tabular}\n"
      ],
      "text/markdown": [
       "\n",
       "A matrix: 2 × 4 of type dbl\n",
       "\n",
       "| <!--/--> | AR1 | AR2 | MA1 | mu |\n",
       "|---|---|---|---|---|\n",
       "| Coefficients | 0.42 | 0.32 | 0.7 | 1.2 |\n",
       "| P Value | 0.00 | 0.01 | 0.0 | 0.0 |\n",
       "\n"
      ],
      "text/plain": [
       "             AR1  AR2  MA1 mu \n",
       "Coefficients 0.42 0.32 0.7 1.2\n",
       "P Value      0.00 0.01 0.0 0.0"
      ]
     },
     "metadata": {},
     "output_type": "display_data"
    }
   ],
   "source": [
    "sp21 <-window(sp,start=c(1961,2))\n",
    "\n",
    "mar21 <- Arima(sp21,order=c(2,0,1)) \n",
    "#Pvalues of ARIMA\n",
    "p_mar21 <- (1-pnorm(abs(mar21$coef)/sqrt(diag(mar21$var.coef))))*1.96\n",
    "### presenting the results with p values\n",
    "df_mar21 <-as.matrix(rbind(mar21$coef,p_mar21))\n",
    "\n",
    "dimnames(df_mar21) = list(c(\"Coefficients\",\"P Value\"),c(\"AR1\",\"AR2\",\"MA1\",\"mu\"))\n",
    "\n",
    "round(df_mar21, 2)"
   ]
  },
  {
   "cell_type": "code",
   "execution_count": 146,
   "metadata": {},
   "outputs": [
    {
     "data": {
      "image/png": "[encoded data removed]",
      "text/plain": [
       "plot without title"
      ]
     },
     "metadata": {
      "image/png": {
       "height": 420,
       "width": 420
      }
     },
     "output_type": "display_data"
    }
   ],
   "source": [
    "car21 <- mar21$coef[1:2]\n",
    "rar21 <- (polyroot(c(1,-car21)))^{-1}\n",
    "\n",
    "roots_arma(rar21)+ggtitle(\"Figure 17:Inverse of the AR roots\")\n"
   ]
  },
  {
   "cell_type": "markdown",
   "metadata": {},
   "source": [
    "\n",
    "\n",
    "The roots are within the unit circle and AR(2) satisfies the stability condition. The process is inverible as MA coefficient is less than one. "
   ]
  },
  {
   "cell_type": "code",
   "execution_count": 147,
   "metadata": {},
   "outputs": [
    {
     "data": {
      "text/html": [
       "<table class=\"dataframe\">\n",
       "<caption>A matrix: 2 × 12 of type dbl</caption>\n",
       "<tbody>\n",
       "\t<tr><th scope=row>Q-stat</th><td>0.00</td><td>0.05</td><td>1.09</td><td>1.22</td><td>1.42</td><td>2.96</td><td>7.36</td><td>12.04</td><td>12.08</td><td>12.28</td><td>18.72</td><td>18.72</td></tr>\n",
       "\t<tr><th scope=row>pval</th><td>0.99</td><td>0.97</td><td>0.78</td><td>0.87</td><td>0.92</td><td>0.81</td><td>0.39</td><td> 0.15</td><td> 0.21</td><td> 0.27</td><td> 0.07</td><td> 0.10</td></tr>\n",
       "</tbody>\n",
       "</table>\n"
      ],
      "text/latex": [
       "A matrix: 2 × 12 of type dbl\n",
       "\\begin{tabular}{r|llllllllllll}\n",
       "\tQ-stat & 0.00 & 0.05 & 1.09 & 1.22 & 1.42 & 2.96 & 7.36 & 12.04 & 12.08 & 12.28 & 18.72 & 18.72\\\\\n",
       "\tpval & 0.99 & 0.97 & 0.78 & 0.87 & 0.92 & 0.81 & 0.39 &  0.15 &  0.21 &  0.27 &  0.07 &  0.10\\\\\n",
       "\\end{tabular}\n"
      ],
      "text/markdown": [
       "\n",
       "A matrix: 2 × 12 of type dbl\n",
       "\n",
       "| Q-stat | 0.00 | 0.05 | 1.09 | 1.22 | 1.42 | 2.96 | 7.36 | 12.04 | 12.08 | 12.28 | 18.72 | 18.72 |\n",
       "| pval | 0.99 | 0.97 | 0.78 | 0.87 | 0.92 | 0.81 | 0.39 |  0.15 |  0.21 |  0.27 |  0.07 |  0.10 |\n",
       "\n"
      ],
      "text/plain": [
       "       [,1] [,2] [,3] [,4] [,5] [,6] [,7] [,8]  [,9]  [,10] [,11] [,12]\n",
       "Q-stat 0.00 0.05 1.09 1.22 1.42 2.96 7.36 12.04 12.08 12.28 18.72 18.72\n",
       "pval   0.99 0.97 0.78 0.87 0.92 0.81 0.39  0.15  0.21  0.27  0.07  0.10"
      ]
     },
     "metadata": {},
     "output_type": "display_data"
    }
   ],
   "source": [
    "\n",
    "\n",
    "#Ljung Box Q stat\n",
    "res_ar21 <- mar21$residuals\n",
    "Mjb <- matrix(nrow=2, ncol=12)\n",
    "for(i in 1:12){\n",
    "        jb <- Box.test(res_ar21, lag=i, type=\"Ljung-Box\")\n",
    "        round(Mjb[1,i] <- jb$statistic,2)\n",
    "        round(Mjb[2,i] <- jb$p.value,2)\n",
    "}\n",
    "\n",
    "dimnames(Mjb) <- list(c(\"Q-stat\",\"pval\"))\n",
    "round(Mjb,2)"
   ]
  },
  {
   "cell_type": "code",
   "execution_count": 148,
   "metadata": {},
   "outputs": [
    {
     "data": {
      "image/png": "[encoded data removed]",
      "text/plain": [
       "plot without title"
      ]
     },
     "metadata": {
      "image/png": {
       "height": 420,
       "width": 420
      }
     },
     "output_type": "display_data"
    },
    {
     "data": {
      "image/png": "[encoded data removed]",
      "text/plain": [
       "plot without title"
      ]
     },
     "metadata": {
      "image/png": {
       "height": 420,
       "width": 420
      }
     },
     "output_type": "display_data"
    }
   ],
   "source": [
    "sacf.graph1(res_ar21,12)+ggtitle(\"Figure 18: ACF of residuls from ARMA(2,1)\")\n",
    "spacf.graph1(res_ar21,12)+ggtitle(\"Figure 19: ACF of residuls from ARMA(2,1)\")"
   ]
  },
  {
   "cell_type": "code",
   "execution_count": 149,
   "metadata": {},
   "outputs": [
    {
     "data": {
      "text/html": [
       "287.10413532201"
      ],
      "text/latex": [
       "287.10413532201"
      ],
      "text/markdown": [
       "287.10413532201"
      ],
      "text/plain": [
       "[1] 287.1041"
      ]
     },
     "metadata": {},
     "output_type": "display_data"
    },
    {
     "data": {
      "text/html": [
       "303.767729288337"
      ],
      "text/latex": [
       "303.767729288337"
      ],
      "text/markdown": [
       "303.767729288337"
      ],
      "text/plain": [
       "[1] 303.7677"
      ]
     },
     "metadata": {},
     "output_type": "display_data"
    }
   ],
   "source": [
    "mar21$aic #AIC\n",
    "mar21$bic #SBC"
   ]
  },
  {
   "cell_type": "markdown",
   "metadata": {},
   "source": [
    "-  This model is an improvement over the ARMA(1, 1) specification. \n",
    "-  All the coefficients are statistical significant.\n",
    "-  The AIC selects the ARMA(2, 1) model over that AR(6) and the SBC selects the ARMA(2, 1) over the AR(6)\n",
    "and the AR(7). \n",
    "-  The values for Q stat indicate that the autocorrelations\n",
    "of the residuals are not statistically significant at the 5% level.\n",
    " \n",
    "\n",
    "### Seventh Model :ARMA(2,(1,7))\n",
    "\n",
    "In order to account for the serial correlation at lag 7, it might seem plausible\n",
    "to add an MA term to the model at lag 7"
   ]
  },
  {
   "cell_type": "code",
   "execution_count": 150,
   "metadata": {},
   "outputs": [
    {
     "data": {
      "text/html": [
       "<table class=\"dataframe\">\n",
       "<caption>A matrix: 2 × 5 of type dbl</caption>\n",
       "<thead>\n",
       "\t<tr><th></th><th scope=col>AR1</th><th scope=col>AR2</th><th scope=col>MA1</th><th scope=col>MA7</th><th scope=col>mu</th></tr>\n",
       "</thead>\n",
       "<tbody>\n",
       "\t<tr><th scope=row>Coefficients</th><td>0.34</td><td>0.4</td><td>0.78</td><td>-0.14</td><td>1.19</td></tr>\n",
       "\t<tr><th scope=row>P Value</th><td>0.01</td><td>0.0</td><td>0.00</td><td> 0.00</td><td>0.00</td></tr>\n",
       "</tbody>\n",
       "</table>\n"
      ],
      "text/latex": [
       "A matrix: 2 × 5 of type dbl\n",
       "\\begin{tabular}{r|lllll}\n",
       "  & AR1 & AR2 & MA1 & MA7 & mu\\\\\n",
       "\\hline\n",
       "\tCoefficients & 0.34 & 0.4 & 0.78 & -0.14 & 1.19\\\\\n",
       "\tP Value & 0.01 & 0.0 & 0.00 &  0.00 & 0.00\\\\\n",
       "\\end{tabular}\n"
      ],
      "text/markdown": [
       "\n",
       "A matrix: 2 × 5 of type dbl\n",
       "\n",
       "| <!--/--> | AR1 | AR2 | MA1 | MA7 | mu |\n",
       "|---|---|---|---|---|---|\n",
       "| Coefficients | 0.34 | 0.4 | 0.78 | -0.14 | 1.19 |\n",
       "| P Value | 0.01 | 0.0 | 0.00 |  0.00 | 0.00 |\n",
       "\n"
      ],
      "text/plain": [
       "             AR1  AR2 MA1  MA7   mu  \n",
       "Coefficients 0.34 0.4 0.78 -0.14 1.19\n",
       "P Value      0.01 0.0 0.00  0.00 0.00"
      ]
     },
     "metadata": {},
     "output_type": "display_data"
    },
    {
     "data": {
      "text/html": [
       "<table class=\"dataframe\">\n",
       "<caption>A matrix: 2 × 12 of type dbl</caption>\n",
       "<tbody>\n",
       "\t<tr><th scope=row>Q-stat</th><td>0.01</td><td>0.18</td><td>0.58</td><td>0.83</td><td>0.83</td><td>2.06</td><td>2.34</td><td>2.80</td><td>4.71</td><td>6.51</td><td>11.08</td><td>11.24</td></tr>\n",
       "\t<tr><th scope=row>pval</th><td>0.93</td><td>0.91</td><td>0.90</td><td>0.93</td><td>0.97</td><td>0.91</td><td>0.94</td><td>0.95</td><td>0.86</td><td>0.77</td><td> 0.44</td><td> 0.51</td></tr>\n",
       "</tbody>\n",
       "</table>\n"
      ],
      "text/latex": [
       "A matrix: 2 × 12 of type dbl\n",
       "\\begin{tabular}{r|llllllllllll}\n",
       "\tQ-stat & 0.01 & 0.18 & 0.58 & 0.83 & 0.83 & 2.06 & 2.34 & 2.80 & 4.71 & 6.51 & 11.08 & 11.24\\\\\n",
       "\tpval & 0.93 & 0.91 & 0.90 & 0.93 & 0.97 & 0.91 & 0.94 & 0.95 & 0.86 & 0.77 &  0.44 &  0.51\\\\\n",
       "\\end{tabular}\n"
      ],
      "text/markdown": [
       "\n",
       "A matrix: 2 × 12 of type dbl\n",
       "\n",
       "| Q-stat | 0.01 | 0.18 | 0.58 | 0.83 | 0.83 | 2.06 | 2.34 | 2.80 | 4.71 | 6.51 | 11.08 | 11.24 |\n",
       "| pval | 0.93 | 0.91 | 0.90 | 0.93 | 0.97 | 0.91 | 0.94 | 0.95 | 0.86 | 0.77 |  0.44 |  0.51 |\n",
       "\n"
      ],
      "text/plain": [
       "       [,1] [,2] [,3] [,4] [,5] [,6] [,7] [,8] [,9] [,10] [,11] [,12]\n",
       "Q-stat 0.01 0.18 0.58 0.83 0.83 2.06 2.34 2.80 4.71 6.51  11.08 11.24\n",
       "pval   0.93 0.91 0.90 0.93 0.97 0.91 0.94 0.95 0.86 0.77   0.44  0.51"
      ]
     },
     "metadata": {},
     "output_type": "display_data"
    }
   ],
   "source": [
    "\n",
    "mar27 <- Arima(sp,order=c(2,0,7),fixed=c(NA,NA,NA,0,0,0,0,0,NA,NA)) \n",
    "#Pvalues of ARIMA\n",
    "p_mar27 <- (1-pnorm(abs(mar27$coef)/sqrt(diag(mar27$var.coef))))*1.96\n",
    "### presenting the results with p values\n",
    "df_mar27 <-as.matrix(rbind(mar27$coef[-(4:8)],p_mar27[-(4:8)]))\n",
    "\n",
    "dimnames(df_mar27) = list(c(\"Coefficients\",\"P Value\"),c(\"AR1\",\"AR2\",\"MA1\",\"MA7\",\"mu\"))\n",
    "\n",
    "\n",
    "#Ljung Box Q stat\n",
    "res_ar27 <- mar27$residuals\n",
    "Mjb <- matrix(nrow=2, ncol=12)\n",
    "for(i in 1:12){\n",
    "        jb <- Box.test(res_ar27, lag=i, type=\"Ljung-Box\")\n",
    "        round(Mjb[1,i] <- jb$statistic,2)\n",
    "        round(Mjb[2,i] <- jb$p.value,2)\n",
    "}\n",
    "\n",
    "dimnames(Mjb) <- list(c(\"Q-stat\",\"pval\"))\n",
    " round(df_mar27,2)\n",
    "round(Mjb,2)"
   ]
  },
  {
   "cell_type": "code",
   "execution_count": 151,
   "metadata": {},
   "outputs": [
    {
     "data": {
      "image/png": "[encoded data removed]",
      "text/plain": [
       "plot without title"
      ]
     },
     "metadata": {
      "image/png": {
       "height": 420,
       "width": 420
      }
     },
     "output_type": "display_data"
    },
    {
     "data": {
      "image/png": "[encoded data removed]",
      "text/plain": [
       "plot without title"
      ]
     },
     "metadata": {
      "image/png": {
       "height": 420,
       "width": 420
      }
     },
     "output_type": "display_data"
    }
   ],
   "source": [
    "sacf.graph1(res_ar27,12)+ggtitle(\"Figure 20: ACF of residuls from ARMA(2,(1,7))\")\n",
    "spacf.graph1(res_ar27,12)+ggtitle(\"Figure 21: ACF of residuls from ARMA(2,(1,7))\")"
   ]
  },
  {
   "cell_type": "markdown",
   "metadata": {},
   "source": [
    "-   All of the estimated coefficients are of high quality. \n",
    "-  The Q-statistics indicate that the autocorrelations of the residuals are not significant at conventional\n",
    "level. \n",
    "-  Both the AIC and SBC select the ARMA[2,(1,7)] specification over any of the other models.\n",
    "-   Although the ARMA[2,(1,7)] model appears to be quite reasonable, other\n",
    "researchers might have selected a decidedly different model. \n",
    " \n",
    "\n",
    "Consider some of the alternatives listed below.\n",
    "\n",
    "-  Parsimony versus Overfitting: Some researcher prefer small models like ARMA(2,1) in this example. Also try to see the significance of particular coefficient to the problem at hand For instance in this case, is it really plausible MA7 has a direct effect on the current value of the interest rate spread\n",
    "while lags 3, 4, 5, and 6 have no direct effects? In other words, do the markets\n",
    "for securities work in such a way that what happens 7 quarters in the past has a\n",
    "larger effect on today's' interest rates than events occurring in the more recent\n",
    "past? Even though the AIC and SBC select the ARMA[2,(1,7)]\n",
    "model over the ARMA(2, 1) model, some researchers would prefer the latter.\n",
    "More generally, overfitting refers to a situation in which an equation\n",
    "is fit to some of the idiosyncrasies of present in a particular sample that are\n",
    "not actually representative of the data-generating process. In applied work,\n",
    "no data set will perfectly correspond to every assumption required for the\n",
    "Box-Jenkins methodology. Since it is not always clear which characteristics\n",
    "of the sample are actually present in the data-generating process, the attempt\n",
    "to expand a model so as to capture every feature of the data may lead to\n",
    "overfitting.\n",
    "-  Volatility: Given the volatility of the spread series during the late 1970s and\n",
    "early 1980s, transforming the spread using some sort of a square root or logarithmic\n",
    "transformation might be appropriate. Moreover, the  series has a\n",
    "number of sharp jumps, indicating that the assumption of normality might be\n",
    "violated. Possibility of heteroschedasticity in Variance\n",
    "-  Incorporation of trends \n",
    "\n",
    "### Forcasting\n"
   ]
  },
  {
   "cell_type": "code",
   "execution_count": 152,
   "metadata": {},
   "outputs": [
    {
     "data": {
      "image/png": "[encoded data removed]",
      "text/plain": [
       "plot without title"
      ]
     },
     "metadata": {
      "image/png": {
       "height": 420,
       "width": 420
      }
     },
     "output_type": "display_data"
    }
   ],
   "source": [
    "# we split the sample into two. First sample is used to fit the model.\n",
    "# we will use the second sample for forecast evaluation.\n",
    " \n",
    "t_sp <- window(sp,start=c(1960,1),end=c(2000,2))\n",
    "f_sp<-window(sp,start=c(2000,3))\n",
    "\n",
    "# Estimate two models\n",
    "mod1<-Arima(t_sp,order=c(7,0,0))\n",
    "mod2<-Arima(t_sp,order=c(2,0,7),fixed=c(NA,NA,NA,0,0,0,0,0,NA,NA))\n",
    "# We need to obtain one step ahead forecast manualy\n",
    "#Followings codes will do that\n",
    " # Model 1\n",
    "newfit7 <- Arima(c(t_sp,f_sp), model=mod1)\n",
    "fmod1 <- fitted(newfit7)[163:212]\n",
    "autoplot(forecast(newfit7)) # graph of forcasted value"
   ]
  },
  {
   "cell_type": "code",
   "execution_count": 153,
   "metadata": {},
   "outputs": [
    {
     "data": {
      "image/png": "[encoded data removed]",
      "text/plain": [
       "plot without title"
      ]
     },
     "metadata": {
      "image/png": {
       "height": 420,
       "width": 420
      }
     },
     "output_type": "display_data"
    }
   ],
   "source": [
    "# Model 2\n",
    "newfit27 <- Arima(c(t_sp,f_sp), model=mod2)\n",
    "fmod2 <- fitted(newfit27)[163:212]\n",
    "autoplot(forecast(newfit27))"
   ]
  },
  {
   "cell_type": "code",
   "execution_count": 154,
   "metadata": {},
   "outputs": [
    {
     "data": {
      "text/html": [
       "<table class=\"dataframe\">\n",
       "<caption>A matrix: 1 × 7 of type dbl</caption>\n",
       "<thead>\n",
       "\t<tr><th></th><th scope=col>ME</th><th scope=col>RMSE</th><th scope=col>MAE</th><th scope=col>MPE</th><th scope=col>MAPE</th><th scope=col>ACF1</th><th scope=col>Theil's U</th></tr>\n",
       "</thead>\n",
       "<tbody>\n",
       "\t<tr><th scope=row>Test set</th><td>0.02</td><td>0.42</td><td>0.33</td><td>-25.5</td><td>132.96</td><td>-0.02</td><td>0.76</td></tr>\n",
       "</tbody>\n",
       "</table>\n"
      ],
      "text/latex": [
       "A matrix: 1 × 7 of type dbl\n",
       "\\begin{tabular}{r|lllllll}\n",
       "  & ME & RMSE & MAE & MPE & MAPE & ACF1 & Theil's U\\\\\n",
       "\\hline\n",
       "\tTest set & 0.02 & 0.42 & 0.33 & -25.5 & 132.96 & -0.02 & 0.76\\\\\n",
       "\\end{tabular}\n"
      ],
      "text/markdown": [
       "\n",
       "A matrix: 1 × 7 of type dbl\n",
       "\n",
       "| <!--/--> | ME | RMSE | MAE | MPE | MAPE | ACF1 | Theil's U |\n",
       "|---|---|---|---|---|---|---|---|\n",
       "| Test set | 0.02 | 0.42 | 0.33 | -25.5 | 132.96 | -0.02 | 0.76 |\n",
       "\n"
      ],
      "text/plain": [
       "         ME   RMSE MAE  MPE   MAPE   ACF1  Theil's U\n",
       "Test set 0.02 0.42 0.33 -25.5 132.96 -0.02 0.76     "
      ]
     },
     "metadata": {},
     "output_type": "display_data"
    }
   ],
   "source": [
    "e1t <- f_sp[-50]-fmod1[-1]\n",
    "e2t <- f_sp-fmod2\n",
    "# out of sample forecast evaluation \n",
    "round(accuracy(fmod1, f_sp),2) # for AR(7)"
   ]
  },
  {
   "cell_type": "code",
   "execution_count": 155,
   "metadata": {},
   "outputs": [
    {
     "data": {
      "text/html": [
       "<table class=\"dataframe\">\n",
       "<caption>A matrix: 1 × 7 of type dbl</caption>\n",
       "<thead>\n",
       "\t<tr><th></th><th scope=col>ME</th><th scope=col>RMSE</th><th scope=col>MAE</th><th scope=col>MPE</th><th scope=col>MAPE</th><th scope=col>ACF1</th><th scope=col>Theil's U</th></tr>\n",
       "</thead>\n",
       "<tbody>\n",
       "\t<tr><th scope=row>Test set</th><td>0.02</td><td>0.4</td><td>0.31</td><td>-29.04</td><td>126.25</td><td>0.05</td><td>0.69</td></tr>\n",
       "</tbody>\n",
       "</table>\n"
      ],
      "text/latex": [
       "A matrix: 1 × 7 of type dbl\n",
       "\\begin{tabular}{r|lllllll}\n",
       "  & ME & RMSE & MAE & MPE & MAPE & ACF1 & Theil's U\\\\\n",
       "\\hline\n",
       "\tTest set & 0.02 & 0.4 & 0.31 & -29.04 & 126.25 & 0.05 & 0.69\\\\\n",
       "\\end{tabular}\n"
      ],
      "text/markdown": [
       "\n",
       "A matrix: 1 × 7 of type dbl\n",
       "\n",
       "| <!--/--> | ME | RMSE | MAE | MPE | MAPE | ACF1 | Theil's U |\n",
       "|---|---|---|---|---|---|---|---|\n",
       "| Test set | 0.02 | 0.4 | 0.31 | -29.04 | 126.25 | 0.05 | 0.69 |\n",
       "\n"
      ],
      "text/plain": [
       "         ME   RMSE MAE  MPE    MAPE   ACF1 Theil's U\n",
       "Test set 0.02 0.4  0.31 -29.04 126.25 0.05 0.69     "
      ]
     },
     "metadata": {},
     "output_type": "display_data"
    }
   ],
   "source": [
    "round(accuracy(fmod2, f_sp),2)#arma(2,(1,7))\n",
    "################################################################################"
   ]
  }
 ],
 "metadata": {
  "_draft": {
   "nbviewer_url": "https://gist.github.com/69049370e9090f0e6caabd2f62314e17"
  },
  "gist": {
   "data": {
    "description": "OneDrive/HS421/Notes/Basics  of Timeseries.ipynb",
    "public": false
   },
   "id": "69049370e9090f0e6caabd2f62314e17"
  },
  "kernelspec": {
   "display_name": "R 4.2.2",
   "language": "R",
   "name": "ir42"
  },
  "language_info": {
   "codemirror_mode": "r",
   "file_extension": ".r",
   "mimetype": "text/x-r-source",
   "name": "R",
   "pygments_lexer": "r",
   "version": "4.2.2"
  },
  "latex_envs": {
   "LaTeX_envs_menu_present": true,
   "autoclose": false,
   "autocomplete": true,
   "bibliofile": "biblio.bib",
   "cite_by": "apalike",
   "current_citInitial": 1,
   "eqLabelWithNumbers": true,
   "eqNumInitial": 1,
   "hotkeys": {
    "equation": "Ctrl-E",
    "itemize": "Ctrl-I"
   },
   "labels_anchors": false,
   "latex_user_defs": false,
   "report_style_numbering": false,
   "user_envs_cfg": false
  },
  "toc": {
   "base_numbering": 1,
   "nav_menu": {},
   "number_sections": true,
   "sideBar": true,
   "skip_h1_title": true,
   "title_cell": "Table of Contents",
   "title_sidebar": "Contents",
   "toc_cell": false,
   "toc_position": {
    "height": "282.4px",
    "left": "764px",
    "top": "110.267px",
    "width": "204.8px"
   },
   "toc_section_display": true,
   "toc_window_display": true
  }
 },
 "nbformat": 4,
 "nbformat_minor": 4
}
